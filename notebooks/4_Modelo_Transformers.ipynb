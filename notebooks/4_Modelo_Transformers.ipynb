{
  "nbformat": 4,
  "nbformat_minor": 0,
  "metadata": {
    "colab": {
      "provenance": [],
      "gpuType": "T4"
    },
    "kernelspec": {
      "name": "python3",
      "display_name": "Python 3"
    },
    "language_info": {
      "name": "python"
    },
    "accelerator": "GPU",
    "widgets": {
      "application/vnd.jupyter.widget-state+json": {
        "5541d646e9de472aa8dfa74985c914a4": {
          "model_module": "@jupyter-widgets/controls",
          "model_name": "HBoxModel",
          "model_module_version": "1.5.0",
          "state": {
            "_dom_classes": [],
            "_model_module": "@jupyter-widgets/controls",
            "_model_module_version": "1.5.0",
            "_model_name": "HBoxModel",
            "_view_count": null,
            "_view_module": "@jupyter-widgets/controls",
            "_view_module_version": "1.5.0",
            "_view_name": "HBoxView",
            "box_style": "",
            "children": [
              "IPY_MODEL_871011b1536f4b0c91543a1b8500ade7",
              "IPY_MODEL_1079570a45ce4b07ab5c52c000956902",
              "IPY_MODEL_ae07241d63f4497ea442e235b9ec7684"
            ],
            "layout": "IPY_MODEL_4f8aa93e75cf4a688536d5da634fab54"
          }
        },
        "871011b1536f4b0c91543a1b8500ade7": {
          "model_module": "@jupyter-widgets/controls",
          "model_name": "HTMLModel",
          "model_module_version": "1.5.0",
          "state": {
            "_dom_classes": [],
            "_model_module": "@jupyter-widgets/controls",
            "_model_module_version": "1.5.0",
            "_model_name": "HTMLModel",
            "_view_count": null,
            "_view_module": "@jupyter-widgets/controls",
            "_view_module_version": "1.5.0",
            "_view_name": "HTMLView",
            "description": "",
            "description_tooltip": null,
            "layout": "IPY_MODEL_c7c657b4b73143ab97a2e73041c6ad32",
            "placeholder": "​",
            "style": "IPY_MODEL_7b3d819944dd45be8d7ec8293db490e4",
            "value": "pytorch_model.bin: 100%"
          }
        },
        "1079570a45ce4b07ab5c52c000956902": {
          "model_module": "@jupyter-widgets/controls",
          "model_name": "FloatProgressModel",
          "model_module_version": "1.5.0",
          "state": {
            "_dom_classes": [],
            "_model_module": "@jupyter-widgets/controls",
            "_model_module_version": "1.5.0",
            "_model_name": "FloatProgressModel",
            "_view_count": null,
            "_view_module": "@jupyter-widgets/controls",
            "_view_module_version": "1.5.0",
            "_view_name": "ProgressView",
            "bar_style": "success",
            "description": "",
            "description_tooltip": null,
            "layout": "IPY_MODEL_4b376e4318c74b68af4037d1c1c28532",
            "max": 504420627,
            "min": 0,
            "orientation": "horizontal",
            "style": "IPY_MODEL_c6b6176646384dcfa7ba1fa107145362",
            "value": 504420627
          }
        },
        "ae07241d63f4497ea442e235b9ec7684": {
          "model_module": "@jupyter-widgets/controls",
          "model_name": "HTMLModel",
          "model_module_version": "1.5.0",
          "state": {
            "_dom_classes": [],
            "_model_module": "@jupyter-widgets/controls",
            "_model_module_version": "1.5.0",
            "_model_name": "HTMLModel",
            "_view_count": null,
            "_view_module": "@jupyter-widgets/controls",
            "_view_module_version": "1.5.0",
            "_view_name": "HTMLView",
            "description": "",
            "description_tooltip": null,
            "layout": "IPY_MODEL_86300b462a664a1fae7709adfce2b9c9",
            "placeholder": "​",
            "style": "IPY_MODEL_91b219b55bb0414cb9c75227fd1a1ffb",
            "value": " 504M/504M [00:03&lt;00:00, 176MB/s]"
          }
        },
        "4f8aa93e75cf4a688536d5da634fab54": {
          "model_module": "@jupyter-widgets/base",
          "model_name": "LayoutModel",
          "model_module_version": "1.2.0",
          "state": {
            "_model_module": "@jupyter-widgets/base",
            "_model_module_version": "1.2.0",
            "_model_name": "LayoutModel",
            "_view_count": null,
            "_view_module": "@jupyter-widgets/base",
            "_view_module_version": "1.2.0",
            "_view_name": "LayoutView",
            "align_content": null,
            "align_items": null,
            "align_self": null,
            "border": null,
            "bottom": null,
            "display": null,
            "flex": null,
            "flex_flow": null,
            "grid_area": null,
            "grid_auto_columns": null,
            "grid_auto_flow": null,
            "grid_auto_rows": null,
            "grid_column": null,
            "grid_gap": null,
            "grid_row": null,
            "grid_template_areas": null,
            "grid_template_columns": null,
            "grid_template_rows": null,
            "height": null,
            "justify_content": null,
            "justify_items": null,
            "left": null,
            "margin": null,
            "max_height": null,
            "max_width": null,
            "min_height": null,
            "min_width": null,
            "object_fit": null,
            "object_position": null,
            "order": null,
            "overflow": null,
            "overflow_x": null,
            "overflow_y": null,
            "padding": null,
            "right": null,
            "top": null,
            "visibility": null,
            "width": null
          }
        },
        "c7c657b4b73143ab97a2e73041c6ad32": {
          "model_module": "@jupyter-widgets/base",
          "model_name": "LayoutModel",
          "model_module_version": "1.2.0",
          "state": {
            "_model_module": "@jupyter-widgets/base",
            "_model_module_version": "1.2.0",
            "_model_name": "LayoutModel",
            "_view_count": null,
            "_view_module": "@jupyter-widgets/base",
            "_view_module_version": "1.2.0",
            "_view_name": "LayoutView",
            "align_content": null,
            "align_items": null,
            "align_self": null,
            "border": null,
            "bottom": null,
            "display": null,
            "flex": null,
            "flex_flow": null,
            "grid_area": null,
            "grid_auto_columns": null,
            "grid_auto_flow": null,
            "grid_auto_rows": null,
            "grid_column": null,
            "grid_gap": null,
            "grid_row": null,
            "grid_template_areas": null,
            "grid_template_columns": null,
            "grid_template_rows": null,
            "height": null,
            "justify_content": null,
            "justify_items": null,
            "left": null,
            "margin": null,
            "max_height": null,
            "max_width": null,
            "min_height": null,
            "min_width": null,
            "object_fit": null,
            "object_position": null,
            "order": null,
            "overflow": null,
            "overflow_x": null,
            "overflow_y": null,
            "padding": null,
            "right": null,
            "top": null,
            "visibility": null,
            "width": null
          }
        },
        "7b3d819944dd45be8d7ec8293db490e4": {
          "model_module": "@jupyter-widgets/controls",
          "model_name": "DescriptionStyleModel",
          "model_module_version": "1.5.0",
          "state": {
            "_model_module": "@jupyter-widgets/controls",
            "_model_module_version": "1.5.0",
            "_model_name": "DescriptionStyleModel",
            "_view_count": null,
            "_view_module": "@jupyter-widgets/base",
            "_view_module_version": "1.2.0",
            "_view_name": "StyleView",
            "description_width": ""
          }
        },
        "4b376e4318c74b68af4037d1c1c28532": {
          "model_module": "@jupyter-widgets/base",
          "model_name": "LayoutModel",
          "model_module_version": "1.2.0",
          "state": {
            "_model_module": "@jupyter-widgets/base",
            "_model_module_version": "1.2.0",
            "_model_name": "LayoutModel",
            "_view_count": null,
            "_view_module": "@jupyter-widgets/base",
            "_view_module_version": "1.2.0",
            "_view_name": "LayoutView",
            "align_content": null,
            "align_items": null,
            "align_self": null,
            "border": null,
            "bottom": null,
            "display": null,
            "flex": null,
            "flex_flow": null,
            "grid_area": null,
            "grid_auto_columns": null,
            "grid_auto_flow": null,
            "grid_auto_rows": null,
            "grid_column": null,
            "grid_gap": null,
            "grid_row": null,
            "grid_template_areas": null,
            "grid_template_columns": null,
            "grid_template_rows": null,
            "height": null,
            "justify_content": null,
            "justify_items": null,
            "left": null,
            "margin": null,
            "max_height": null,
            "max_width": null,
            "min_height": null,
            "min_width": null,
            "object_fit": null,
            "object_position": null,
            "order": null,
            "overflow": null,
            "overflow_x": null,
            "overflow_y": null,
            "padding": null,
            "right": null,
            "top": null,
            "visibility": null,
            "width": null
          }
        },
        "c6b6176646384dcfa7ba1fa107145362": {
          "model_module": "@jupyter-widgets/controls",
          "model_name": "ProgressStyleModel",
          "model_module_version": "1.5.0",
          "state": {
            "_model_module": "@jupyter-widgets/controls",
            "_model_module_version": "1.5.0",
            "_model_name": "ProgressStyleModel",
            "_view_count": null,
            "_view_module": "@jupyter-widgets/base",
            "_view_module_version": "1.2.0",
            "_view_name": "StyleView",
            "bar_color": null,
            "description_width": ""
          }
        },
        "86300b462a664a1fae7709adfce2b9c9": {
          "model_module": "@jupyter-widgets/base",
          "model_name": "LayoutModel",
          "model_module_version": "1.2.0",
          "state": {
            "_model_module": "@jupyter-widgets/base",
            "_model_module_version": "1.2.0",
            "_model_name": "LayoutModel",
            "_view_count": null,
            "_view_module": "@jupyter-widgets/base",
            "_view_module_version": "1.2.0",
            "_view_name": "LayoutView",
            "align_content": null,
            "align_items": null,
            "align_self": null,
            "border": null,
            "bottom": null,
            "display": null,
            "flex": null,
            "flex_flow": null,
            "grid_area": null,
            "grid_auto_columns": null,
            "grid_auto_flow": null,
            "grid_auto_rows": null,
            "grid_column": null,
            "grid_gap": null,
            "grid_row": null,
            "grid_template_areas": null,
            "grid_template_columns": null,
            "grid_template_rows": null,
            "height": null,
            "justify_content": null,
            "justify_items": null,
            "left": null,
            "margin": null,
            "max_height": null,
            "max_width": null,
            "min_height": null,
            "min_width": null,
            "object_fit": null,
            "object_position": null,
            "order": null,
            "overflow": null,
            "overflow_x": null,
            "overflow_y": null,
            "padding": null,
            "right": null,
            "top": null,
            "visibility": null,
            "width": null
          }
        },
        "91b219b55bb0414cb9c75227fd1a1ffb": {
          "model_module": "@jupyter-widgets/controls",
          "model_name": "DescriptionStyleModel",
          "model_module_version": "1.5.0",
          "state": {
            "_model_module": "@jupyter-widgets/controls",
            "_model_module_version": "1.5.0",
            "_model_name": "DescriptionStyleModel",
            "_view_count": null,
            "_view_module": "@jupyter-widgets/base",
            "_view_module_version": "1.2.0",
            "_view_name": "StyleView",
            "description_width": ""
          }
        },
        "e951c42638fb493b83288c3194d6351e": {
          "model_module": "@jupyter-widgets/controls",
          "model_name": "HBoxModel",
          "model_module_version": "1.5.0",
          "state": {
            "_dom_classes": [],
            "_model_module": "@jupyter-widgets/controls",
            "_model_module_version": "1.5.0",
            "_model_name": "HBoxModel",
            "_view_count": null,
            "_view_module": "@jupyter-widgets/controls",
            "_view_module_version": "1.5.0",
            "_view_name": "HBoxView",
            "box_style": "",
            "children": [
              "IPY_MODEL_70c791ed360844398b66b107188950c8",
              "IPY_MODEL_6f4c96e875f547e9bdafb7cea8635000",
              "IPY_MODEL_d8eed572875845258ccb9d2c9e05cf16"
            ],
            "layout": "IPY_MODEL_23c036a92854467c9879811ba1d58d71"
          }
        },
        "70c791ed360844398b66b107188950c8": {
          "model_module": "@jupyter-widgets/controls",
          "model_name": "HTMLModel",
          "model_module_version": "1.5.0",
          "state": {
            "_dom_classes": [],
            "_model_module": "@jupyter-widgets/controls",
            "_model_module_version": "1.5.0",
            "_model_name": "HTMLModel",
            "_view_count": null,
            "_view_module": "@jupyter-widgets/controls",
            "_view_module_version": "1.5.0",
            "_view_name": "HTMLView",
            "description": "",
            "description_tooltip": null,
            "layout": "IPY_MODEL_7afb2308085d4dc48015c8653d4fe65c",
            "placeholder": "​",
            "style": "IPY_MODEL_304c1524d3e84f40806992298d94d0a8",
            "value": "model.safetensors: 100%"
          }
        },
        "6f4c96e875f547e9bdafb7cea8635000": {
          "model_module": "@jupyter-widgets/controls",
          "model_name": "FloatProgressModel",
          "model_module_version": "1.5.0",
          "state": {
            "_dom_classes": [],
            "_model_module": "@jupyter-widgets/controls",
            "_model_module_version": "1.5.0",
            "_model_name": "FloatProgressModel",
            "_view_count": null,
            "_view_module": "@jupyter-widgets/controls",
            "_view_module_version": "1.5.0",
            "_view_name": "ProgressView",
            "bar_style": "success",
            "description": "",
            "description_tooltip": null,
            "layout": "IPY_MODEL_617c1f8d54c048e09aefac85adf00634",
            "max": 504363096,
            "min": 0,
            "orientation": "horizontal",
            "style": "IPY_MODEL_b23746f4834446e39fc2bd65e41a06b1",
            "value": 504363096
          }
        },
        "d8eed572875845258ccb9d2c9e05cf16": {
          "model_module": "@jupyter-widgets/controls",
          "model_name": "HTMLModel",
          "model_module_version": "1.5.0",
          "state": {
            "_dom_classes": [],
            "_model_module": "@jupyter-widgets/controls",
            "_model_module_version": "1.5.0",
            "_model_name": "HTMLModel",
            "_view_count": null,
            "_view_module": "@jupyter-widgets/controls",
            "_view_module_version": "1.5.0",
            "_view_name": "HTMLView",
            "description": "",
            "description_tooltip": null,
            "layout": "IPY_MODEL_c0ec5f41eb1447639b0f3ff26032f69e",
            "placeholder": "​",
            "style": "IPY_MODEL_ec62f3543d054132978899500ca8b7eb",
            "value": " 504M/504M [00:06&lt;00:00, 89.1MB/s]"
          }
        },
        "23c036a92854467c9879811ba1d58d71": {
          "model_module": "@jupyter-widgets/base",
          "model_name": "LayoutModel",
          "model_module_version": "1.2.0",
          "state": {
            "_model_module": "@jupyter-widgets/base",
            "_model_module_version": "1.2.0",
            "_model_name": "LayoutModel",
            "_view_count": null,
            "_view_module": "@jupyter-widgets/base",
            "_view_module_version": "1.2.0",
            "_view_name": "LayoutView",
            "align_content": null,
            "align_items": null,
            "align_self": null,
            "border": null,
            "bottom": null,
            "display": null,
            "flex": null,
            "flex_flow": null,
            "grid_area": null,
            "grid_auto_columns": null,
            "grid_auto_flow": null,
            "grid_auto_rows": null,
            "grid_column": null,
            "grid_gap": null,
            "grid_row": null,
            "grid_template_areas": null,
            "grid_template_columns": null,
            "grid_template_rows": null,
            "height": null,
            "justify_content": null,
            "justify_items": null,
            "left": null,
            "margin": null,
            "max_height": null,
            "max_width": null,
            "min_height": null,
            "min_width": null,
            "object_fit": null,
            "object_position": null,
            "order": null,
            "overflow": null,
            "overflow_x": null,
            "overflow_y": null,
            "padding": null,
            "right": null,
            "top": null,
            "visibility": null,
            "width": null
          }
        },
        "7afb2308085d4dc48015c8653d4fe65c": {
          "model_module": "@jupyter-widgets/base",
          "model_name": "LayoutModel",
          "model_module_version": "1.2.0",
          "state": {
            "_model_module": "@jupyter-widgets/base",
            "_model_module_version": "1.2.0",
            "_model_name": "LayoutModel",
            "_view_count": null,
            "_view_module": "@jupyter-widgets/base",
            "_view_module_version": "1.2.0",
            "_view_name": "LayoutView",
            "align_content": null,
            "align_items": null,
            "align_self": null,
            "border": null,
            "bottom": null,
            "display": null,
            "flex": null,
            "flex_flow": null,
            "grid_area": null,
            "grid_auto_columns": null,
            "grid_auto_flow": null,
            "grid_auto_rows": null,
            "grid_column": null,
            "grid_gap": null,
            "grid_row": null,
            "grid_template_areas": null,
            "grid_template_columns": null,
            "grid_template_rows": null,
            "height": null,
            "justify_content": null,
            "justify_items": null,
            "left": null,
            "margin": null,
            "max_height": null,
            "max_width": null,
            "min_height": null,
            "min_width": null,
            "object_fit": null,
            "object_position": null,
            "order": null,
            "overflow": null,
            "overflow_x": null,
            "overflow_y": null,
            "padding": null,
            "right": null,
            "top": null,
            "visibility": null,
            "width": null
          }
        },
        "304c1524d3e84f40806992298d94d0a8": {
          "model_module": "@jupyter-widgets/controls",
          "model_name": "DescriptionStyleModel",
          "model_module_version": "1.5.0",
          "state": {
            "_model_module": "@jupyter-widgets/controls",
            "_model_module_version": "1.5.0",
            "_model_name": "DescriptionStyleModel",
            "_view_count": null,
            "_view_module": "@jupyter-widgets/base",
            "_view_module_version": "1.2.0",
            "_view_name": "StyleView",
            "description_width": ""
          }
        },
        "617c1f8d54c048e09aefac85adf00634": {
          "model_module": "@jupyter-widgets/base",
          "model_name": "LayoutModel",
          "model_module_version": "1.2.0",
          "state": {
            "_model_module": "@jupyter-widgets/base",
            "_model_module_version": "1.2.0",
            "_model_name": "LayoutModel",
            "_view_count": null,
            "_view_module": "@jupyter-widgets/base",
            "_view_module_version": "1.2.0",
            "_view_name": "LayoutView",
            "align_content": null,
            "align_items": null,
            "align_self": null,
            "border": null,
            "bottom": null,
            "display": null,
            "flex": null,
            "flex_flow": null,
            "grid_area": null,
            "grid_auto_columns": null,
            "grid_auto_flow": null,
            "grid_auto_rows": null,
            "grid_column": null,
            "grid_gap": null,
            "grid_row": null,
            "grid_template_areas": null,
            "grid_template_columns": null,
            "grid_template_rows": null,
            "height": null,
            "justify_content": null,
            "justify_items": null,
            "left": null,
            "margin": null,
            "max_height": null,
            "max_width": null,
            "min_height": null,
            "min_width": null,
            "object_fit": null,
            "object_position": null,
            "order": null,
            "overflow": null,
            "overflow_x": null,
            "overflow_y": null,
            "padding": null,
            "right": null,
            "top": null,
            "visibility": null,
            "width": null
          }
        },
        "b23746f4834446e39fc2bd65e41a06b1": {
          "model_module": "@jupyter-widgets/controls",
          "model_name": "ProgressStyleModel",
          "model_module_version": "1.5.0",
          "state": {
            "_model_module": "@jupyter-widgets/controls",
            "_model_module_version": "1.5.0",
            "_model_name": "ProgressStyleModel",
            "_view_count": null,
            "_view_module": "@jupyter-widgets/base",
            "_view_module_version": "1.2.0",
            "_view_name": "StyleView",
            "bar_color": null,
            "description_width": ""
          }
        },
        "c0ec5f41eb1447639b0f3ff26032f69e": {
          "model_module": "@jupyter-widgets/base",
          "model_name": "LayoutModel",
          "model_module_version": "1.2.0",
          "state": {
            "_model_module": "@jupyter-widgets/base",
            "_model_module_version": "1.2.0",
            "_model_name": "LayoutModel",
            "_view_count": null,
            "_view_module": "@jupyter-widgets/base",
            "_view_module_version": "1.2.0",
            "_view_name": "LayoutView",
            "align_content": null,
            "align_items": null,
            "align_self": null,
            "border": null,
            "bottom": null,
            "display": null,
            "flex": null,
            "flex_flow": null,
            "grid_area": null,
            "grid_auto_columns": null,
            "grid_auto_flow": null,
            "grid_auto_rows": null,
            "grid_column": null,
            "grid_gap": null,
            "grid_row": null,
            "grid_template_areas": null,
            "grid_template_columns": null,
            "grid_template_rows": null,
            "height": null,
            "justify_content": null,
            "justify_items": null,
            "left": null,
            "margin": null,
            "max_height": null,
            "max_width": null,
            "min_height": null,
            "min_width": null,
            "object_fit": null,
            "object_position": null,
            "order": null,
            "overflow": null,
            "overflow_x": null,
            "overflow_y": null,
            "padding": null,
            "right": null,
            "top": null,
            "visibility": null,
            "width": null
          }
        },
        "ec62f3543d054132978899500ca8b7eb": {
          "model_module": "@jupyter-widgets/controls",
          "model_name": "DescriptionStyleModel",
          "model_module_version": "1.5.0",
          "state": {
            "_model_module": "@jupyter-widgets/controls",
            "_model_module_version": "1.5.0",
            "_model_name": "DescriptionStyleModel",
            "_view_count": null,
            "_view_module": "@jupyter-widgets/base",
            "_view_module_version": "1.2.0",
            "_view_name": "StyleView",
            "description_width": ""
          }
        }
      }
    }
  },
  "cells": [
    {
      "cell_type": "markdown",
      "source": [
        "# Instalación de librerías\n",
        "\n",
        "Instalamos las librerías necesarias para el trabajo con modelos de lenguaje (Transformers), procesamiento de datos (Pandas, Numpy) y deep learning (PyTorch)."
      ],
      "metadata": {
        "id": "kNeKySHp9ASy"
      }
    },
    {
      "cell_type": "code",
      "execution_count": 31,
      "metadata": {
        "id": "1aanMFb9B6wo"
      },
      "outputs": [],
      "source": [
        "!pip -q install transformers datasets torch numpy"
      ]
    },
    {
      "cell_type": "code",
      "source": [
        "import os, json, random, datetime, numpy as np, pandas as pd\n",
        "import torch, torch.nn as nn\n",
        "from torch.utils.data import DataLoader\n",
        "from transformers import (AutoTokenizer, AutoModelForSequenceClassification,\n",
        "                          get_linear_schedule_with_warmup)\n",
        "from sklearn.model_selection import train_test_split\n",
        "from sklearn.utils.class_weight import compute_class_weight\n",
        "from sklearn.metrics import (accuracy_score, precision_recall_fscore_support,\n",
        "                             confusion_matrix, ConfusionMatrixDisplay)\n",
        "import matplotlib.pyplot as plt"
      ],
      "metadata": {
        "id": "JY62WRAeEVZp"
      },
      "execution_count": 32,
      "outputs": []
    },
    {
      "cell_type": "code",
      "source": [
        "from google.colab import drive\n",
        "drive.mount('/content/drive')"
      ],
      "metadata": {
        "colab": {
          "base_uri": "https://localhost:8080/"
        },
        "id": "pMOJJZPUEX1Z",
        "outputId": "a05c0427-f15e-4a7c-8d7c-0b7b09cd2fda"
      },
      "execution_count": 33,
      "outputs": [
        {
          "output_type": "stream",
          "name": "stdout",
          "text": [
            "Drive already mounted at /content/drive; to attempt to forcibly remount, call drive.mount(\"/content/drive\", force_remount=True).\n"
          ]
        }
      ]
    },
    {
      "cell_type": "markdown",
      "source": [
        "# Definición de rutas y parámetros globales\n",
        "\n",
        "Establecemos las rutas a los archivos de datos, así como parámetros globales para reproducibilidad, configuración del modelo y el entorno de entrenamiento."
      ],
      "metadata": {
        "id": "HZUd-fQ-9IzW"
      }
    },
    {
      "cell_type": "code",
      "source": [
        "root_dir   = '/content/drive/MyDrive/PDG/data/'\n",
        "export_dir = '/content/drive/MyDrive/PDG/models/'\n",
        "os.makedirs(export_dir, exist_ok=True)\n",
        "\n",
        "path_train_aug = root_dir + \"train_oversample_df.xlsx\"\n",
        "path_val_aug   = root_dir + \"val_df.xlsx\"\n",
        "path_base      = root_dir + \"base_df.xlsx\"\n",
        "path_test      = root_dir + \"test_df.xlsx\""
      ],
      "metadata": {
        "id": "YRdFsqK-EZUJ"
      },
      "execution_count": 34,
      "outputs": []
    },
    {
      "cell_type": "code",
      "source": [
        "SEED       = 42\n",
        "BATCH      = 8\n",
        "EPOCHS     = 15\n",
        "LR         = 2e-5\n",
        "THRESHOLD  = 0.30\n",
        "model_name = \"PlanTL-GOB-ES/roberta-base-biomedical-clinical-es\"\n",
        "device     = torch.device(\"cuda\" if torch.cuda.is_available() else \"cpu\")"
      ],
      "metadata": {
        "id": "e59joZxsEbEX"
      },
      "execution_count": 35,
      "outputs": []
    },
    {
      "cell_type": "code",
      "source": [
        "random.seed(SEED); np.random.seed(SEED); torch.manual_seed(SEED)\n",
        "torch.backends.cudnn.deterministic = True; torch.backends.cudnn.benchmark = False"
      ],
      "metadata": {
        "id": "n7SSBSRUEckt"
      },
      "execution_count": 36,
      "outputs": []
    },
    {
      "cell_type": "markdown",
      "source": [
        "# Preparación del Tokenizer\n",
        "\n",
        "Descargamos y preparamos el tokenizer preentrenado de RoBERTa biomédico en español, fundamental para convertir los textos en secuencias de tokens."
      ],
      "metadata": {
        "id": "Ac6jNxJx9Lze"
      }
    },
    {
      "cell_type": "code",
      "source": [
        "tokenizer = AutoTokenizer.from_pretrained(model_name)"
      ],
      "metadata": {
        "id": "ilke0wbg6pQl"
      },
      "execution_count": 37,
      "outputs": []
    },
    {
      "cell_type": "markdown",
      "source": [
        "Dataset y DataLoader auxiliares"
      ],
      "metadata": {
        "id": "Ja-HbB2mEeYp"
      }
    },
    {
      "cell_type": "markdown",
      "source": [
        "# Definición del Dataset y DataLoader\n",
        "\n",
        "Definimos una clase auxiliar de PyTorch para convertir textos y etiquetas en tensores adecuados para el entrenamiento del modelo Transformer."
      ],
      "metadata": {
        "id": "y_Qg0Hjy9ONx"
      }
    },
    {
      "cell_type": "code",
      "source": [
        "class TextDataset(torch.utils.data.Dataset):\n",
        "    def __init__(self, texts, labels, tok, max_len=128):\n",
        "        enc = tok(texts, truncation=True, padding='max_length',\n",
        "                  max_length=max_len, return_tensors='pt')\n",
        "        self.ids   = enc['input_ids']\n",
        "        self.mask  = enc['attention_mask']\n",
        "        self.lbls  = torch.tensor(labels)\n",
        "\n",
        "    def __len__(self): return len(self.lbls)\n",
        "    def __getitem__(self, i):\n",
        "        return {\"input_ids\": self.ids[i],\n",
        "                \"attention_mask\": self.mask[i],\n",
        "                \"labels\": self.lbls[i]}"
      ],
      "metadata": {
        "id": "VVE6jSQxEgd5"
      },
      "execution_count": 38,
      "outputs": []
    },
    {
      "cell_type": "markdown",
      "source": [
        "# Función para crear DataLoaders\n",
        "\n",
        "Creamos una función auxiliar que permite generar los DataLoaders para los conjuntos de entrenamiento, validación y test de forma sencilla y uniforme."
      ],
      "metadata": {
        "id": "SXxwB-bG9QAK"
      }
    },
    {
      "cell_type": "code",
      "source": [
        "def make_loaders(df_train, df_val, df_test, tok):\n",
        "    ds_tr = TextDataset(df_train.texto.tolist(), df_train.label.tolist(), tok)\n",
        "    ds_va = TextDataset(df_val.texto.tolist(),   df_val.label.tolist(), tok)\n",
        "    label_col = 'label' if 'label' in df_test.columns else 'etiqueta'\n",
        "    ds_te = TextDataset(df_test.texto.tolist(), df_test[label_col].tolist(), tok)\n",
        "    return (DataLoader(ds_tr, batch_size=BATCH, shuffle=True),\n",
        "            DataLoader(ds_va, batch_size=BATCH),\n",
        "            DataLoader(ds_te, batch_size=BATCH))"
      ],
      "metadata": {
        "id": "6hjm0Od7Eh0W"
      },
      "execution_count": 39,
      "outputs": []
    },
    {
      "cell_type": "markdown",
      "source": [
        "# Funciones auxiliares para el entrenamiento y evaluación\n",
        "\n",
        "Incluimos funciones para calcular los pesos de clase (importante en casos de desbalanceo), para reportar las métricas de desempeño y graficar la matriz de confusión, y para exportar el modelo y el tokenizer entrenados."
      ],
      "metadata": {
        "id": "5uE4OI219SsC"
      }
    },
    {
      "cell_type": "code",
      "source": [
        "def class_wts(labels):\n",
        "    w = compute_class_weight('balanced', classes=np.unique(labels), y=labels)\n",
        "    return torch.tensor(w, dtype=torch.float)"
      ],
      "metadata": {
        "id": "rgGrs-IbEjoC"
      },
      "execution_count": 40,
      "outputs": []
    },
    {
      "cell_type": "code",
      "source": [
        "def metrics_report(model, loader, thr, tag):\n",
        "    model.eval(); p, y = [], []\n",
        "    with torch.no_grad():\n",
        "        for b in loader:\n",
        "            ids  = b['input_ids'].to(device)\n",
        "            msk  = b['attention_mask'].to(device)\n",
        "            lbls = b['labels'].to(device)\n",
        "            probs = torch.softmax(model(ids, attention_mask=msk).logits, 1)[:, 1]\n",
        "            p.extend((probs >= thr).long().cpu().numpy())\n",
        "            y.extend(lbls.cpu().numpy())\n",
        "    acc  = accuracy_score(y, p)\n",
        "    prec, rec, f1, _ = precision_recall_fscore_support(y, p, average='binary')\n",
        "    print(f\"\\n📊 {tag}  Acc:{acc:.4f}  Prec:{prec:.4f}  Rec:{rec:.4f}  F1:{f1:.4f}\")\n",
        "    cm = confusion_matrix(y, p)\n",
        "    disp = ConfusionMatrixDisplay(\n",
        "        confusion_matrix=cm,\n",
        "        display_labels=[\"No crítico\", \"Crítico\"]\n",
        "    )\n",
        "    disp.plot(cmap=\"Blues\")\n",
        "    plt.title(f\"CM – {tag}\")\n",
        "    plt.show()"
      ],
      "metadata": {
        "id": "fRd3Cc1CElbY"
      },
      "execution_count": 41,
      "outputs": []
    },
    {
      "cell_type": "code",
      "source": [
        "def export_model(model, tok, out_dir, thr):\n",
        "    model.save_pretrained(out_dir + \"/model\")\n",
        "    tok.save_pretrained(out_dir + \"/tokenizer\")\n",
        "    meta = {\n",
        "        \"threshold\": thr,\n",
        "        \"date\": datetime.datetime.now().isoformat(),\n",
        "        \"torch\": torch.__version__,\n",
        "        \"transformers\": __import__('transformers').__version__\n",
        "    }\n",
        "    with open(out_dir + \"/meta.json\", \"w\") as fp: json.dump(meta, fp, indent=2)\n",
        "    print(f\"✅ Exportado en: {out_dir}\")"
      ],
      "metadata": {
        "id": "GTu-QKceEp9v"
      },
      "execution_count": 42,
      "outputs": []
    },
    {
      "cell_type": "markdown",
      "source": [
        "# Carga de datasets\n",
        "\n",
        "Cargamos los distintos conjuntos de datos:\n",
        "\n",
        "* Datos aumentados (entrenamiento y validación)\n",
        "* Base original (para comparar contra el modelo aumentado)\n",
        "* Test final (para la tercera validación y prueba final de desempeño)\n",
        "  Convertimos la columna de etiquetas en una columna `label` para uniformidad."
      ],
      "metadata": {
        "id": "zAquhnwh9Vkp"
      }
    },
    {
      "cell_type": "code",
      "source": [
        "df_train_aug = pd.read_excel(path_train_aug); df_val_aug = pd.read_excel(path_val_aug)\n",
        "for d in (df_train_aug, df_val_aug): d[\"label\"] = d[\"etiqueta\"]"
      ],
      "metadata": {
        "id": "f2_4BT51EsKt"
      },
      "execution_count": 43,
      "outputs": []
    },
    {
      "cell_type": "code",
      "source": [
        "df_base = pd.read_excel(path_base)\n",
        "df_base[\"label\"] = df_base[\"etiqueta\"]\n",
        "df_base_tr, df_base_val = train_test_split(\n",
        "    df_base, test_size=0.20, stratify=df_base.label, random_state=SEED\n",
        ")"
      ],
      "metadata": {
        "id": "B4UQG7oAEtxu"
      },
      "execution_count": 44,
      "outputs": []
    },
    {
      "cell_type": "code",
      "source": [
        "df_test = pd.read_excel(path_test)\n",
        "df_test[\"label\"] = df_test[\"etiqueta\"]"
      ],
      "metadata": {
        "id": "92Fw0lpG67Ud"
      },
      "execution_count": 45,
      "outputs": []
    },
    {
      "cell_type": "markdown",
      "source": [
        "# Función principal de entrenamiento y validación\n",
        "\n",
        "Definimos una función que entrena el modelo sobre el set de entrenamiento, evalúa su desempeño en el set de validación y en el set de test final, y exporta el modelo y el tokenizer entrenados. Así centralizamos todo el proceso en un solo paso."
      ],
      "metadata": {
        "id": "htYQwoNN9dI2"
      }
    },
    {
      "cell_type": "code",
      "source": [
        "def train_model(tag, df_tr, df_val, df_test):\n",
        "    print(f\"\\n══════════  {tag.upper()}  ══════════\")\n",
        "    train_loader, val_loader, test_loader = make_loaders(df_tr, df_val, df_test, tokenizer)\n",
        "\n",
        "    model = AutoModelForSequenceClassification.from_pretrained(model_name, num_labels=2).to(device)\n",
        "    weights = class_wts(df_tr.label.values).to(device)\n",
        "    criterion = nn.CrossEntropyLoss(weight=weights)\n",
        "    optimizer = torch.optim.AdamW(model.parameters(), lr=LR)\n",
        "    scheduler = get_linear_schedule_with_warmup(\n",
        "        optimizer, 0, len(train_loader)*EPOCHS\n",
        "    )\n",
        "\n",
        "    model.train()\n",
        "    for ep in range(EPOCHS):\n",
        "        ep_loss = 0\n",
        "        for batch in train_loader:\n",
        "            ids  = batch['input_ids'].to(device)\n",
        "            msk  = batch['attention_mask'].to(device)\n",
        "            lbls = batch['labels'].to(device)\n",
        "\n",
        "            optimizer.zero_grad()\n",
        "            loss = criterion(model(ids, attention_mask=msk).logits, lbls)\n",
        "            loss.backward(); optimizer.step(); scheduler.step()\n",
        "            ep_loss += loss.item()\n",
        "        print(f\"Ep {ep+1:02}/{EPOCHS}  Loss:{ep_loss/len(train_loader):.4f}\")\n",
        "\n",
        "    # Evaluación en validación\n",
        "    metrics_report(model, val_loader, THRESHOLD, f\"{tag.upper()}-VAL\")\n",
        "\n",
        "    # Evaluación en test final (tercera validación)\n",
        "    metrics_report(model, test_loader, THRESHOLD, f\"{tag.upper()}-TEST_FINAL\")\n",
        "\n",
        "    out = os.path.join(export_dir, f\"roberta_{tag}\")\n",
        "    os.makedirs(out, exist_ok=True)\n",
        "    export_model(model, tokenizer, out, THRESHOLD)\n",
        "    return model"
      ],
      "metadata": {
        "id": "gkXqZPZFE3sZ"
      },
      "execution_count": 46,
      "outputs": []
    },
    {
      "cell_type": "markdown",
      "source": [
        "# Entrenamiento y evaluación de modelos\n",
        "\n",
        "Entrenamos y evaluamos dos modelos:\n",
        "\n",
        "* Uno sobre datos aumentados (mayor balance entre clases y potencial de generalización)\n",
        "* Otro sobre los datos originales (para comparar el impacto del aumento de datos)\n",
        "  Ambos modelos se evalúan en el set de validación y en el set de test final para comparar su rendimiento real sobre datos no vistos."
      ],
      "metadata": {
        "id": "Rx6Ud7yf9iHU"
      }
    },
    {
      "cell_type": "code",
      "source": [
        "model_aug  = train_model(\"aug\",  df_train_aug, df_val_aug, df_test)\n"
      ],
      "metadata": {
        "id": "rYYpWDUUE5Hx",
        "colab": {
          "base_uri": "https://localhost:8080/",
          "height": 1000,
          "referenced_widgets": [
            "5541d646e9de472aa8dfa74985c914a4",
            "871011b1536f4b0c91543a1b8500ade7",
            "1079570a45ce4b07ab5c52c000956902",
            "ae07241d63f4497ea442e235b9ec7684",
            "4f8aa93e75cf4a688536d5da634fab54",
            "c7c657b4b73143ab97a2e73041c6ad32",
            "7b3d819944dd45be8d7ec8293db490e4",
            "4b376e4318c74b68af4037d1c1c28532",
            "c6b6176646384dcfa7ba1fa107145362",
            "86300b462a664a1fae7709adfce2b9c9",
            "91b219b55bb0414cb9c75227fd1a1ffb",
            "e951c42638fb493b83288c3194d6351e",
            "70c791ed360844398b66b107188950c8",
            "6f4c96e875f547e9bdafb7cea8635000",
            "d8eed572875845258ccb9d2c9e05cf16",
            "23c036a92854467c9879811ba1d58d71",
            "7afb2308085d4dc48015c8653d4fe65c",
            "304c1524d3e84f40806992298d94d0a8",
            "617c1f8d54c048e09aefac85adf00634",
            "b23746f4834446e39fc2bd65e41a06b1",
            "c0ec5f41eb1447639b0f3ff26032f69e",
            "ec62f3543d054132978899500ca8b7eb"
          ]
        },
        "outputId": "85f06a6f-7a26-4700-8f23-59e2188b0ff3"
      },
      "execution_count": 47,
      "outputs": [
        {
          "output_type": "stream",
          "name": "stdout",
          "text": [
            "\n",
            "══════════  AUG  ══════════\n"
          ]
        },
        {
          "output_type": "display_data",
          "data": {
            "text/plain": [
              "pytorch_model.bin:   0%|          | 0.00/504M [00:00<?, ?B/s]"
            ],
            "application/vnd.jupyter.widget-view+json": {
              "version_major": 2,
              "version_minor": 0,
              "model_id": "5541d646e9de472aa8dfa74985c914a4"
            }
          },
          "metadata": {}
        },
        {
          "output_type": "display_data",
          "data": {
            "text/plain": [
              "model.safetensors:   0%|          | 0.00/504M [00:00<?, ?B/s]"
            ],
            "application/vnd.jupyter.widget-view+json": {
              "version_major": 2,
              "version_minor": 0,
              "model_id": "e951c42638fb493b83288c3194d6351e"
            }
          },
          "metadata": {}
        },
        {
          "output_type": "stream",
          "name": "stderr",
          "text": [
            "Some weights of RobertaForSequenceClassification were not initialized from the model checkpoint at PlanTL-GOB-ES/roberta-base-biomedical-clinical-es and are newly initialized: ['classifier.dense.bias', 'classifier.dense.weight', 'classifier.out_proj.bias', 'classifier.out_proj.weight']\n",
            "You should probably TRAIN this model on a down-stream task to be able to use it for predictions and inference.\n"
          ]
        },
        {
          "output_type": "stream",
          "name": "stdout",
          "text": [
            "Ep 01/15  Loss:0.2295\n",
            "Ep 02/15  Loss:0.1152\n",
            "Ep 03/15  Loss:0.0667\n",
            "Ep 04/15  Loss:0.0507\n",
            "Ep 05/15  Loss:0.0219\n",
            "Ep 06/15  Loss:0.0232\n",
            "Ep 07/15  Loss:0.0112\n",
            "Ep 08/15  Loss:0.0039\n",
            "Ep 09/15  Loss:0.0026\n",
            "Ep 10/15  Loss:0.0037\n",
            "Ep 11/15  Loss:0.0043\n",
            "Ep 12/15  Loss:0.0018\n",
            "Ep 13/15  Loss:0.0011\n",
            "Ep 14/15  Loss:0.0003\n",
            "Ep 15/15  Loss:0.0003\n",
            "\n",
            "📊 AUG-VAL  Acc:0.9256  Prec:0.7863  Rec:0.8306  F1:0.8078\n"
          ]
        },
        {
          "output_type": "display_data",
          "data": {
            "text/plain": [
              "<Figure size 640x480 with 2 Axes>"
            ],
            "image/png": "[encoded data removed]"
          },
          "metadata": {}
        },
        {
          "output_type": "stream",
          "name": "stdout",
          "text": [
            "\n",
            "📊 AUG-TEST_FINAL  Acc:0.9000  Prec:0.7143  Rec:0.7895  F1:0.7500\n"
          ]
        },
        {
          "output_type": "display_data",
          "data": {
            "text/plain": [
              "<Figure size 640x480 with 2 Axes>"
            ],
            "image/png": "[encoded data removed]"
          },
          "metadata": {}
        },
        {
          "output_type": "stream",
          "name": "stdout",
          "text": [
            "✅ Exportado en: /content/drive/MyDrive/PDG/models/roberta_aug\n"
          ]
        }
      ]
    },
    {
      "cell_type": "markdown",
      "source": [
        "En la validación (AUG-VAL), el modelo alcanzó una exactitud (accuracy) de 0.93, con una precisión (precision) de 0.79, un recall (sensibilidad) de 0.83 y un F1-score de 0.81. Estos valores indican que el modelo es bastante efectivo identificando correctamente los casos críticos durante la validación, manteniendo un buen equilibrio entre la cantidad de verdaderos positivos identificados y la cantidad de falsos positivos generados.\n",
        "\n",
        "En la prueba final sobre el conjunto de test (AUG-TEST_FINAL), las métricas muestran un ligero descenso, con una accuracy de 0.90, precisión de 0.71, recall de 0.79 y F1-score de 0.75. Esto es esperado, ya que el test contiene ejemplos completamente nuevos para el modelo. Sin embargo, el rendimiento sigue siendo aceptable y demuestra una adecuada capacidad de generalización.\n",
        "\n",
        "En general aunque las métricas son un poco menores en el test final respecto a la validación, el modelo mantiene un desempeño sólido en ambos conjuntos, especialmente en recall, lo cual es crucial en aplicaciones clínicas donde es fundamental identificar la mayoría de los casos críticos."
      ],
      "metadata": {
        "id": "d9Ei-s1uCT5O"
      }
    },
    {
      "cell_type": "code",
      "source": [
        "model_base = train_model(\"base\", df_base_tr,  df_base_val, df_test)\n"
      ],
      "metadata": {
        "id": "zgRKSijRJzpQ",
        "colab": {
          "base_uri": "https://localhost:8080/",
          "height": 1000
        },
        "outputId": "58a2ed85-e7e6-4daf-c684-23aac3b8051d"
      },
      "execution_count": 48,
      "outputs": [
        {
          "output_type": "stream",
          "name": "stdout",
          "text": [
            "\n",
            "══════════  BASE  ══════════\n"
          ]
        },
        {
          "output_type": "stream",
          "name": "stderr",
          "text": [
            "Some weights of RobertaForSequenceClassification were not initialized from the model checkpoint at PlanTL-GOB-ES/roberta-base-biomedical-clinical-es and are newly initialized: ['classifier.dense.bias', 'classifier.dense.weight', 'classifier.out_proj.bias', 'classifier.out_proj.weight']\n",
            "You should probably TRAIN this model on a down-stream task to be able to use it for predictions and inference.\n"
          ]
        },
        {
          "output_type": "stream",
          "name": "stdout",
          "text": [
            "Ep 01/15  Loss:0.3874\n",
            "Ep 02/15  Loss:0.2320\n",
            "Ep 03/15  Loss:0.1700\n",
            "Ep 04/15  Loss:0.1219\n",
            "Ep 05/15  Loss:0.0827\n",
            "Ep 06/15  Loss:0.0724\n",
            "Ep 07/15  Loss:0.0368\n",
            "Ep 08/15  Loss:0.0229\n",
            "Ep 09/15  Loss:0.0256\n",
            "Ep 10/15  Loss:0.0260\n",
            "Ep 11/15  Loss:0.0149\n",
            "Ep 12/15  Loss:0.0124\n",
            "Ep 13/15  Loss:0.0126\n",
            "Ep 14/15  Loss:0.0136\n",
            "Ep 15/15  Loss:0.0108\n",
            "\n",
            "📊 BASE-VAL  Acc:0.9393  Prec:0.8500  Rec:0.8226  F1:0.8361\n"
          ]
        },
        {
          "output_type": "display_data",
          "data": {
            "text/plain": [
              "<Figure size 640x480 with 2 Axes>"
            ],
            "image/png": "[encoded data removed]"
          },
          "metadata": {}
        },
        {
          "output_type": "stream",
          "name": "stdout",
          "text": [
            "\n",
            "📊 BASE-TEST_FINAL  Acc:0.9000  Prec:0.7368  Rec:0.7368  F1:0.7368\n"
          ]
        },
        {
          "output_type": "display_data",
          "data": {
            "text/plain": [
              "<Figure size 640x480 with 2 Axes>"
            ],
            "image/png": "[encoded data removed]"
          },
          "metadata": {}
        },
        {
          "output_type": "stream",
          "name": "stdout",
          "text": [
            "✅ Exportado en: /content/drive/MyDrive/PDG/models/roberta_base\n"
          ]
        }
      ]
    },
    {
      "cell_type": "markdown",
      "source": [
        "\n",
        "* **Desempeño en Validación (BASE-VAL):**\n",
        "\n",
        "  * El modelo obtiene una **exactitud (accuracy) de 0.94**, lo que indica que casi todas las predicciones en el conjunto de validación fueron correctas.\n",
        "  * La **precisión (precision) es de 0.85**, es decir, el 85% de los casos que el modelo identificó como \"críticos\" realmente lo eran.\n",
        "  * El **recall (sensibilidad) es de 0.82**, lo que significa que el modelo identificó correctamente el 82% de todos los informes realmente críticos.\n",
        "  * El **F1-score es de 0.84**, mostrando un buen equilibrio entre precisión y recall.\n",
        "\n",
        "* **Desempeño en Test Final (BASE-TEST\\_FINAL):**\n",
        "\n",
        "  * En el conjunto de prueba final, la **exactitud baja a 0.90**, lo que sigue siendo un valor alto.\n",
        "  * La **precisión y el recall caen a 0.74**, mostrando que el modelo es menos efectivo cuando se enfrenta a datos completamente nuevos. El **F1-score** también refleja esta disminución, ubicándose en 0.74.\n",
        "  * Esta bajada es común y esperada, ya que el conjunto de test contiene ejemplos no vistos durante el entrenamiento y validación, probando la capacidad de generalización real del modelo.\n"
      ],
      "metadata": {
        "id": "Xwy4RgavEkzY"
      }
    }
  ]
}