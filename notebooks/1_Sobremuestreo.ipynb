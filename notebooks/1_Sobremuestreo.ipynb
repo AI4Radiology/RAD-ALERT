{
 "cells": [
  {
   "cell_type": "markdown",
   "metadata": {
    "id": "QACsvYQ3Tatg"
   },
   "source": [
    "# ***Oversampling***"
   ]
  },
  {
   "cell_type": "markdown",
   "metadata": {
    "id": "YtEjIdB-Qe8T"
   },
   "source": [
    "## **Librerías y Carga de Datos**\n"
   ]
  },
  {
   "cell_type": "code",
   "execution_count": 5,
   "metadata": {
    "colab": {
     "base_uri": "https://localhost:8080/"
    },
    "executionInfo": {
     "elapsed": 90770,
     "status": "ok",
     "timestamp": 1747620830121,
     "user": {
      "displayName": "SpicyChontaduros",
      "userId": "14089472962866803669"
     },
     "user_tz": 300
    },
    "id": "ML4JlmWz0R8Z",
    "outputId": "2490a041-1409-435b-db0c-c12938a63d16"
   },
   "outputs": [
    {
     "name": "stdout",
     "output_type": "stream",
     "text": [
      "\u001b[?25l   \u001b[90m━━━━━━━━━━━━━━━━━━━━━━━━━━━━━━━━━━━━━━━━\u001b[0m \u001b[32m0.0/362.1 kB\u001b[0m \u001b[31m?\u001b[0m eta \u001b[36m-:--:--\u001b[0m\r\u001b[2K   \u001b[90m━━━━━━━━━━━━━━━━━━━━━━━━━━━━━━━━━━━━━━━━\u001b[0m \u001b[32m362.1/362.1 kB\u001b[0m \u001b[31m13.2 MB/s\u001b[0m eta \u001b[36m0:00:00\u001b[0m\n",
      "\u001b[2K   \u001b[90m━━━━━━━━━━━━━━━━━━━━━━━━━━━━━━━━━━━━━━━━\u001b[0m \u001b[32m410.5/410.5 kB\u001b[0m \u001b[31m28.8 MB/s\u001b[0m eta \u001b[36m0:00:00\u001b[0m\n",
      "\u001b[2K   \u001b[90m━━━━━━━━━━━━━━━━━━━━━━━━━━━━━━━━━━━━━━━━\u001b[0m \u001b[32m56.8/56.8 MB\u001b[0m \u001b[31m11.8 MB/s\u001b[0m eta \u001b[36m0:00:00\u001b[0m\n",
      "\u001b[2K   \u001b[90m━━━━━━━━━━━━━━━━━━━━━━━━━━━━━━━━━━━━━━━━\u001b[0m \u001b[32m44.8/44.8 kB\u001b[0m \u001b[31m4.3 MB/s\u001b[0m eta \u001b[36m0:00:00\u001b[0m\n",
      "\u001b[2K   \u001b[90m━━━━━━━━━━━━━━━━━━━━━━━━━━━━━━━━━━━━━━━━\u001b[0m \u001b[32m363.4/363.4 MB\u001b[0m \u001b[31m4.2 MB/s\u001b[0m eta \u001b[36m0:00:00\u001b[0m\n",
      "\u001b[2K   \u001b[90m━━━━━━━━━━━━━━━━━━━━━━━━━━━━━━━━━━━━━━━━\u001b[0m \u001b[32m13.8/13.8 MB\u001b[0m \u001b[31m85.3 MB/s\u001b[0m eta \u001b[36m0:00:00\u001b[0m\n",
      "\u001b[2K   \u001b[90m━━━━━━━━━━━━━━━━━━━━━━━━━━━━━━━━━━━━━━━━\u001b[0m \u001b[32m24.6/24.6 MB\u001b[0m \u001b[31m64.5 MB/s\u001b[0m eta \u001b[36m0:00:00\u001b[0m\n",
      "\u001b[2K   \u001b[90m━━━━━━━━━━━━━━━━━━━━━━━━━━━━━━━━━━━━━━━━\u001b[0m \u001b[32m883.7/883.7 kB\u001b[0m \u001b[31m41.6 MB/s\u001b[0m eta \u001b[36m0:00:00\u001b[0m\n",
      "\u001b[2K   \u001b[90m━━━━━━━━━━━━━━━━━━━━━━━━━━━━━━━━━━━━━━━━\u001b[0m \u001b[32m664.8/664.8 MB\u001b[0m \u001b[31m2.1 MB/s\u001b[0m eta \u001b[36m0:00:00\u001b[0m\n",
      "\u001b[2K   \u001b[90m━━━━━━━━━━━━━━━━━━━━━━━━━━━━━━━━━━━━━━━━\u001b[0m \u001b[32m211.5/211.5 MB\u001b[0m \u001b[31m6.3 MB/s\u001b[0m eta \u001b[36m0:00:00\u001b[0m\n",
      "\u001b[2K   \u001b[90m━━━━━━━━━━━━━━━━━━━━━━━━━━━━━━━━━━━━━━━━\u001b[0m \u001b[32m56.3/56.3 MB\u001b[0m \u001b[31m13.1 MB/s\u001b[0m eta \u001b[36m0:00:00\u001b[0m\n",
      "\u001b[2K   \u001b[90m━━━━━━━━━━━━━━━━━━━━━━━━━━━━━━━━━━━━━━━━\u001b[0m \u001b[32m127.9/127.9 MB\u001b[0m \u001b[31m7.4 MB/s\u001b[0m eta \u001b[36m0:00:00\u001b[0m\n",
      "\u001b[2K   \u001b[90m━━━━━━━━━━━━━━━━━━━━━━━━━━━━━━━━━━━━━━━━\u001b[0m \u001b[32m207.5/207.5 MB\u001b[0m \u001b[31m8.7 MB/s\u001b[0m eta \u001b[36m0:00:00\u001b[0m\n",
      "\u001b[2K   \u001b[90m━━━━━━━━━━━━━━━━━━━━━━━━━━━━━━━━━━━━━━━━\u001b[0m \u001b[32m21.1/21.1 MB\u001b[0m \u001b[31m87.0 MB/s\u001b[0m eta \u001b[36m0:00:00\u001b[0m\n",
      "\u001b[?25h"
     ]
    }
   ],
   "source": [
    "!pip install -q -U transformers accelerate sentencepiece nlpaug wordfreq"
   ]
  },
  {
   "cell_type": "code",
   "execution_count": 6,
   "metadata": {
    "executionInfo": {
     "elapsed": 27291,
     "status": "ok",
     "timestamp": 1747620857407,
     "user": {
      "displayName": "SpicyChontaduros",
      "userId": "14089472962866803669"
     },
     "user_tz": 300
    },
    "id": "R2Ft5BgijZ94"
   },
   "outputs": [],
   "source": [
    "import pandas as pd\n",
    "import numpy as np\n",
    "from sklearn.utils import shuffle\n",
    "from sklearn.model_selection import train_test_split\n",
    "import nlpaug.augmenter.word as naw\n",
    "import nlpaug.flow as naf\n",
    "import re, unicodedata, itertools, warnings, os\n",
    "import torch\n",
    "from tqdm.auto import tqdm\n",
    "import matplotlib.pyplot as plt\n",
    "import nlpaug"
   ]
  },
  {
   "cell_type": "code",
   "execution_count": null,
   "metadata": {
    "id": "h3qcDKg1Qe8b"
   },
   "outputs": [],
   "source": [
    "#import os\n",
    "#os.environ[\"PYTORCH_CUDA_ALLOC_CONF\"] = \"expandable_segments:True\""
   ]
  },
  {
   "cell_type": "code",
   "execution_count": 1,
   "metadata": {
    "colab": {
     "base_uri": "https://localhost:8080/"
    },
    "executionInfo": {
     "elapsed": 20094,
     "status": "ok",
     "timestamp": 1747620691261,
     "user": {
      "displayName": "SpicyChontaduros",
      "userId": "14089472962866803669"
     },
     "user_tz": 300
    },
    "id": "18rIiLY3WAPZ",
    "outputId": "4eb70dd6-6d0f-4a30-da58-e0ecd3e93c06"
   },
   "outputs": [
    {
     "name": "stdout",
     "output_type": "stream",
     "text": [
      "Mounted at /content/drive\n"
     ]
    }
   ],
   "source": [
    "from google.colab import drive\n",
    "drive.mount('/content/drive')"
   ]
  },
  {
   "cell_type": "code",
   "execution_count": 2,
   "metadata": {
    "executionInfo": {
     "elapsed": 9,
     "status": "ok",
     "timestamp": 1747620691267,
     "user": {
      "displayName": "SpicyChontaduros",
      "userId": "14089472962866803669"
     },
     "user_tz": 300
    },
    "id": "IVEmkCA373_B"
   },
   "outputs": [],
   "source": [
    "root_dir = r\"/content/drive/MyDrive/PDG/data/\"\n",
    "\n",
    "path = root_dir + \"train_df.xlsx\""
   ]
  },
  {
   "cell_type": "code",
   "execution_count": 7,
   "metadata": {
    "executionInfo": {
     "elapsed": 2321,
     "status": "ok",
     "timestamp": 1747620859722,
     "user": {
      "displayName": "SpicyChontaduros",
      "userId": "14089472962866803669"
     },
     "user_tz": 300
    },
    "id": "D3mX4JT-kneE"
   },
   "outputs": [],
   "source": [
    "train_df = pd.read_excel(path)"
   ]
  },
  {
   "cell_type": "code",
   "execution_count": 8,
   "metadata": {
    "colab": {
     "base_uri": "https://localhost:8080/",
     "height": 0
    },
    "executionInfo": {
     "elapsed": 465,
     "status": "ok",
     "timestamp": 1747620860191,
     "user": {
      "displayName": "SpicyChontaduros",
      "userId": "14089472962866803669"
     },
     "user_tz": 300
    },
    "id": "MFLjxutSQe8l",
    "outputId": "891eebd1-b814-4dc2-8f76-afefe3f32954"
   },
   "outputs": [
    {
     "name": "stdout",
     "output_type": "stream",
     "text": [
      "etiqueta\n",
      "0    2138\n",
      "1     496\n",
      "Name: count, dtype: int64\n"
     ]
    },
    {
     "data": {
      "image/png": "[encoded data removed]",
      "text/plain": [
       "<Figure size 600x600 with 1 Axes>"
      ]
     },
     "metadata": {},
     "output_type": "display_data"
    }
   ],
   "source": [
    "import matplotlib.pyplot as plt\n",
    "from sklearn.model_selection import train_test_split\n",
    "\n",
    "label_counts = train_df[\"etiqueta\"].value_counts().sort_index()\n",
    "print(label_counts)\n",
    "labels = [\"No crítico (0)\", \"Crítico (1)\"] if set(label_counts.index) == {0,1} else label_counts.index.astype(str)\n",
    "\n",
    "plt.figure(figsize=(6, 6))\n",
    "plt.pie(\n",
    "    label_counts,\n",
    "    labels=labels,\n",
    "    autopct='%1.1f%%',\n",
    "    startangle=90,\n",
    "    colors=['#66b3ff', '#ff6666'],\n",
    "    explode=[0, 0.05],\n",
    "    textprops={'fontsize': 14}  # Tamaño del texto en etiquetas y porcentajes\n",
    ")\n",
    "\n",
    "plt.title(\"Distribución de Hallazgos Críticos\", fontsize=16)\n",
    "plt.tight_layout()\n",
    "plt.show()\n",
    "\n",
    "# Separar después del gráfico\n",
    "train_df, test_df = train_test_split(train_df, test_size=0.2, random_state=42, stratify=train_df['etiqueta'])\n"
   ]
  },
  {
   "cell_type": "markdown",
   "metadata": {
    "id": "nChnE_WNbPI4"
   },
   "source": [
    "# **Aumentador**"
   ]
  },
  {
   "cell_type": "code",
   "execution_count": null,
   "metadata": {
    "id": "uIFcs948eq6I"
   },
   "outputs": [],
   "source": [
    "import openai\n",
    "\n",
    "client = openai.OpenAI(api_key=\"tu_api_key_aquí\")\n",
    "\n",
    "def paraphrase_openai(text):\n",
    "    prompt = (\n",
    "        f\"Parafrasea el siguiente informe médico en español manteniendo **exactamente** el mismo significado clínico. \"\n",
    "        f\"Usa sinónimos médicos apropiados y cambia la estructura de las frases si es posible. \"\n",
    "        f\"No agregues, omitas ni inventes información. La longitud debe ser similar y debe sonar natural para un profesional de la salud. \"\n",
    "        f\"Responde solo con la frase parafraseada, sin explicaciones:\\n\\n\\\"{text}\\\"\"\n",
    "    )\n",
    "\n",
    "    try:\n",
    "        response = client.chat.completions.create(\n",
    "            model=\"gpt-3.5-turbo\",  # o \"gpt-4\"\n",
    "            messages=[{\"role\": \"user\", \"content\": prompt}],\n",
    "            temperature=0.4,\n",
    "            max_tokens=150,\n",
    "        )\n",
    "        return response.choices[0].message.content.strip()\n",
    "\n",
    "    except Exception as e:\n",
    "        print(\"❌ Error al generar contenido con OpenAI:\", e)\n",
    "        return text\n"
   ]
  },
  {
   "cell_type": "code",
   "execution_count": null,
   "metadata": {
    "colab": {
     "base_uri": "https://localhost:8080/"
    },
    "executionInfo": {
     "elapsed": 2211,
     "status": "ok",
     "timestamp": 1747351103491,
     "user": {
      "displayName": "SpicyChontaduros",
      "userId": "14089472962866803669"
     },
     "user_tz": 300
    },
    "id": "mqx_AcB32dAP",
    "outputId": "dd4e3dbe-1aac-4535-ed0a-b9d3a83e732a"
   },
   "outputs": [
    {
     "name": "stdout",
     "output_type": "stream",
     "text": [
      "🟢 Original : Paciente masculino con fractura de cráneo y evidencia de hematoma subdural agudo en la convexidad derecha; se observa desviación de la línea media.\n",
      "🟠 Paráfrasis: Varón con fractura craneal y hematoma subdural agudo en la convexidad derecha, presentando desviación de la línea media.\n"
     ]
    }
   ],
   "source": [
    "texto = (\"Paciente masculino con fractura de cráneo y evidencia de \"\n",
    "         \"hematoma subdural agudo en la convexidad derecha; se observa \"\n",
    "         \"desviación de la línea media.\")\n",
    "\n",
    "print(\"🟢 Original :\", texto)\n",
    "print(\"🟠 Paráfrasis:\", paraphrase_openai(texto))"
   ]
  },
  {
   "cell_type": "markdown",
   "metadata": {
    "id": "KZ9RNKMy0ZF0"
   },
   "source": [
    "### Método oversample"
   ]
  },
  {
   "cell_type": "code",
   "execution_count": null,
   "metadata": {
    "id": "Y3ZZktnOjMms"
   },
   "outputs": [],
   "source": [
    "from concurrent.futures import ThreadPoolExecutor, as_completed\n",
    "from sklearn.utils import shuffle\n",
    "\n",
    "def oversample(df, text_col=\"texto\", label_col=\"etiqueta\"):\n",
    "    df_0 = df[df[label_col] == 0]\n",
    "    df_1 = df[df[label_col] == 1]\n",
    "\n",
    "    n_needed = len(df_0) - len(df_1)\n",
    "    print(f\"Generando {n_needed} muestras aumentadas para equilibrar clases.\")\n",
    "\n",
    "    def augment_sample(_):\n",
    "        original = df_1.sample(1)[text_col].values[0]\n",
    "        try:\n",
    "            return paraphrase_openai(original)\n",
    "        except Exception as e:\n",
    "            print(f\"Error parafraseando: {e}\")\n",
    "            return None\n",
    "\n",
    "    augmented_texts = []\n",
    "    with ThreadPoolExecutor(max_workers=8) as executor:\n",
    "        futures = [executor.submit(augment_sample, i) for i in range(n_needed)]\n",
    "        for future in tqdm(as_completed(futures), total=n_needed, desc=\"Augmentando textos\"):\n",
    "            result = future.result()\n",
    "            if result:\n",
    "                augmented_texts.append(result)\n",
    "\n",
    "    df_aug = pd.DataFrame({\n",
    "        text_col: augmented_texts,\n",
    "        label_col: [1] * len(augmented_texts)\n",
    "    })\n",
    "\n",
    "    df_bal = pd.concat([df, df_aug], ignore_index=True)\n",
    "    df_bal = shuffle(df_bal, random_state=42)\n",
    "    return df_bal\n"
   ]
  },
  {
   "cell_type": "markdown",
   "metadata": {
    "id": "vDIIWZZ6o1aF"
   },
   "source": [
    "### Aumentar texto"
   ]
  },
  {
   "cell_type": "code",
   "execution_count": null,
   "metadata": {
    "colab": {
     "base_uri": "https://localhost:8080/",
     "height": 424
    },
    "executionInfo": {
     "elapsed": 71,
     "status": "ok",
     "timestamp": 1747351103573,
     "user": {
      "displayName": "SpicyChontaduros",
      "userId": "14089472962866803669"
     },
     "user_tz": 300
    },
    "id": "Rm5A-Gr398CI",
    "outputId": "6f2b2985-2ab9-47ba-8fde-0b1c8e7a54ee"
   },
   "outputs": [
    {
     "data": {
      "application/vnd.google.colaboratory.intrinsic+json": {
       "summary": "{\n  \"name\": \"train_df\",\n  \"rows\": 2107,\n  \"fields\": [\n    {\n      \"column\": \"texto\",\n      \"properties\": {\n        \"dtype\": \"string\",\n        \"num_unique_values\": 2079,\n        \"samples\": [\n          \"control persiste visualizandose hematoma intraparenquimatoso en la region talamica izquierda, con drenaje al sistema ventricular, con disminucion en la densidad y tamano en el sangrado. resolucion del sangrado en el cuarto ventriculo y en espacio subaracnoideo. persiste visualizandose dilatacion del sistema ventricular supratentorial sin cambios. zona de hipodensidad con perdida de volumen compatible con zona de encefalomalacia temporal posterior del lado izquierdo con presencia de zonas de sangrado agudo en su interior, sin cambios con respecto al estudio previo. desviacion de las estructuras de la linea media 4.2 mm hacia la derecha. no hay evidencia de infarto agudo, ni colecciones extra-axiales. placas ateroscleroticas calcificadas en los segmentos cavernosos de las arterias carotidas internas. no se observan lineas de fractura. las porciones visualizadas de las orbitas no muestra alteraciones engrosamiento mucoso comprometiendo los senos maxilares, las celdillas etmoidales anteriores bilateralmente y aspecto lateral derecho del seno esfenoidal. sonda nasal derecha. las celdillas mastoideas se encuentran escasamente desarrolladas. persistencia de hematoma intraparenquimatoso talamico izquierdo con drenaje ventricular con disminucion de la densidad y tamano. prominencia del sistema ventricular supratentorial sin cambios. no evidencia de nuevos sangrados.\",\n          \"codigo acv hemorragia intraparenquimatosa: no. signos de isquemia aguda: no. aspects total: 10 / 10 oclusion vascular en el angio-tc: no. ateromatosis calcificada de vasos del poligono. las estructuras arteriales visualizadas tienen apariencia normal. no se observan disecciones, oclusiones, estenosis o aneurismas. la anatomia es normal, sin variantes significativas. las estructuras venosas visualizadas no presentan alteraciones. prominencia de surcos y espacios subaracnoideos con perdida de la parenquimatoso. hipodensidades mal definidas de la sustancia blanca subcortical y profunda probablemente por leucoencefalopatia microangiopatica. sistema ventricular prominente con indice de evans de 0,36. linea media central. adecuada diferenciacion de la sustancia blanca y gris. no colecciones epi o subdurales, signos de hemorragia subaracnoidea o parenquimatosa. iv ventriculo central, sin aparentes lesiones en fosa posterior evidentes a la escanografia. con las ventanas oseas no evidencia de fracturas. porcion visible de orbitas de aspecto normal. adecuada neumatizacion de mastoides y senos paranasales. quistes de retencion mucosa en ambos senos maxilares. engrosamiento mucoso de algunas celdillas etmoidales. en el estudio de perfusion se observa aumento en el mtt y en el ttp en el hemisferio cerebral derecho y hemisferio cerebeloso ipsilateral. no hay alteraciones en el flujo ni el volumen cerebral. estudio sin evidencia de lesion isquemica en territorios vasculares mayores. no hay oclusion mayor en el estudio angiografico. cambios por perdida de volumen y leucoencefalopatia microangiopatica. prominencia del sistema ventricular supratentorial.\",\n          \"post operatorio craneotomia izquierda con deterioro neurologico cambios post quirurgicos de craniotomia fronto-parietal-temporal izquierda con coleccion extraaxial adyacente de densidad heterogenea con areas de sangrado no visualizadas en estudio previo que condiciona efecto de masa sobre el parenquima cerebral y se asocia a obliteracion de los surcos del espacio subaracnoideos y colapso del ventriculo lateral izquierdo. esta coleccion tiene un espesor de 19 mm previo de 7 mm. se observa hernia subfalcina y uncal izquierda. persisten hemorragia subdural interhemisferica y peritentorial bilateral. sin otros cambios respecto a estudio previo. cambios post quirurgicos de craneotomia fronto-parietal-temporal izquierda con resangrado de la coleccion extra axial y aumento en el efecto de masa sobre el parenquima cerebral adyacente. hernia uncal izquierda y subfalcina.\"\n        ],\n        \"semantic_type\": \"\",\n        \"description\": \"\"\n      }\n    },\n    {\n      \"column\": \"etiqueta\",\n      \"properties\": {\n        \"dtype\": \"number\",\n        \"std\": 0,\n        \"min\": 0,\n        \"max\": 1,\n        \"num_unique_values\": 2,\n        \"samples\": [\n          1,\n          0\n        ],\n        \"semantic_type\": \"\",\n        \"description\": \"\"\n      }\n    }\n  ]\n}",
       "type": "dataframe",
       "variable_name": "train_df"
      },
      "text/html": [
       "\n",
       "  <div id=\"df-0f70ee1c-ba30-4e78-a644-e812300d3339\" class=\"colab-df-container\">\n",
       "    <div>\n",
       "<style scoped>\n",
       "    .dataframe tbody tr th:only-of-type {\n",
       "        vertical-align: middle;\n",
       "    }\n",
       "\n",
       "    .dataframe tbody tr th {\n",
       "        vertical-align: top;\n",
       "    }\n",
       "\n",
       "    .dataframe thead th {\n",
       "        text-align: right;\n",
       "    }\n",
       "</style>\n",
       "<table border=\"1\" class=\"dataframe\">\n",
       "  <thead>\n",
       "    <tr style=\"text-align: right;\">\n",
       "      <th></th>\n",
       "      <th>texto</th>\n",
       "      <th>etiqueta</th>\n",
       "    </tr>\n",
       "  </thead>\n",
       "  <tbody>\n",
       "    <tr>\n",
       "      <th>269</th>\n",
       "      <td>control por perssitencia de cefalea surcos y c...</td>\n",
       "      <td>0</td>\n",
       "    </tr>\n",
       "    <tr>\n",
       "      <th>2581</th>\n",
       "      <td>trauma leve con signos de alarma signos de san...</td>\n",
       "      <td>0</td>\n",
       "    </tr>\n",
       "    <tr>\n",
       "      <th>176</th>\n",
       "      <td>contusion febril compleja, antecedentes de ane...</td>\n",
       "      <td>0</td>\n",
       "    </tr>\n",
       "    <tr>\n",
       "      <th>584</th>\n",
       "      <td>codigo acv ventana 7h - extenso hematoma subdu...</td>\n",
       "      <td>0</td>\n",
       "    </tr>\n",
       "    <tr>\n",
       "      <th>950</th>\n",
       "      <td>nr discreta prominencia de los surcos en las c...</td>\n",
       "      <td>0</td>\n",
       "    </tr>\n",
       "    <tr>\n",
       "      <th>...</th>\n",
       "      <td>...</td>\n",
       "      <td>...</td>\n",
       "    </tr>\n",
       "    <tr>\n",
       "      <th>1335</th>\n",
       "      <td>cefalea persistente, trauma craneo encefalico ...</td>\n",
       "      <td>0</td>\n",
       "    </tr>\n",
       "    <tr>\n",
       "      <th>1202</th>\n",
       "      <td>emergencia hta surcos y espacio subaracnoideo ...</td>\n",
       "      <td>0</td>\n",
       "    </tr>\n",
       "    <tr>\n",
       "      <th>1142</th>\n",
       "      <td>cefalea con signos de alarma. la atenuacion de...</td>\n",
       "      <td>0</td>\n",
       "    </tr>\n",
       "    <tr>\n",
       "      <th>1497</th>\n",
       "      <td>herida por proyectil de arma de fuego. signos ...</td>\n",
       "      <td>1</td>\n",
       "    </tr>\n",
       "    <tr>\n",
       "      <th>2364</th>\n",
       "      <td>hemiparesia izquierda - se observan extensas z...</td>\n",
       "      <td>1</td>\n",
       "    </tr>\n",
       "  </tbody>\n",
       "</table>\n",
       "<p>2107 rows × 2 columns</p>\n",
       "</div>\n",
       "    <div class=\"colab-df-buttons\">\n",
       "\n",
       "  <div class=\"colab-df-container\">\n",
       "    <button class=\"colab-df-convert\" onclick=\"convertToInteractive('df-0f70ee1c-ba30-4e78-a644-e812300d3339')\"\n",
       "            title=\"Convert this dataframe to an interactive table.\"\n",
       "            style=\"display:none;\">\n",
       "\n",
       "  <svg xmlns=\"http://www.w3.org/2000/svg\" height=\"24px\" viewBox=\"0 -960 960 960\">\n",
       "    <path d=\"M120-120v-720h720v720H120Zm60-500h600v-160H180v160Zm220 220h160v-160H400v160Zm0 220h160v-160H400v160ZM180-400h160v-160H180v160Zm440 0h160v-160H620v160ZM180-180h160v-160H180v160Zm440 0h160v-160H620v160Z\"/>\n",
       "  </svg>\n",
       "    </button>\n",
       "\n",
       "  <style>\n",
       "    .colab-df-container {\n",
       "      display:flex;\n",
       "      gap: 12px;\n",
       "    }\n",
       "\n",
       "    .colab-df-convert {\n",
       "      background-color: #E8F0FE;\n",
       "      border: none;\n",
       "      border-radius: 50%;\n",
       "      cursor: pointer;\n",
       "      display: none;\n",
       "      fill: #1967D2;\n",
       "      height: 32px;\n",
       "      padding: 0 0 0 0;\n",
       "      width: 32px;\n",
       "    }\n",
       "\n",
       "    .colab-df-convert:hover {\n",
       "      background-color: #E2EBFA;\n",
       "      box-shadow: 0px 1px 2px rgba(60, 64, 67, 0.3), 0px 1px 3px 1px rgba(60, 64, 67, 0.15);\n",
       "      fill: #174EA6;\n",
       "    }\n",
       "\n",
       "    .colab-df-buttons div {\n",
       "      margin-bottom: 4px;\n",
       "    }\n",
       "\n",
       "    [theme=dark] .colab-df-convert {\n",
       "      background-color: #3B4455;\n",
       "      fill: #D2E3FC;\n",
       "    }\n",
       "\n",
       "    [theme=dark] .colab-df-convert:hover {\n",
       "      background-color: #434B5C;\n",
       "      box-shadow: 0px 1px 3px 1px rgba(0, 0, 0, 0.15);\n",
       "      filter: drop-shadow(0px 1px 2px rgba(0, 0, 0, 0.3));\n",
       "      fill: #FFFFFF;\n",
       "    }\n",
       "  </style>\n",
       "\n",
       "    <script>\n",
       "      const buttonEl =\n",
       "        document.querySelector('#df-0f70ee1c-ba30-4e78-a644-e812300d3339 button.colab-df-convert');\n",
       "      buttonEl.style.display =\n",
       "        google.colab.kernel.accessAllowed ? 'block' : 'none';\n",
       "\n",
       "      async function convertToInteractive(key) {\n",
       "        const element = document.querySelector('#df-0f70ee1c-ba30-4e78-a644-e812300d3339');\n",
       "        const dataTable =\n",
       "          await google.colab.kernel.invokeFunction('convertToInteractive',\n",
       "                                                    [key], {});\n",
       "        if (!dataTable) return;\n",
       "\n",
       "        const docLinkHtml = 'Like what you see? Visit the ' +\n",
       "          '<a target=\"_blank\" href=https://colab.research.google.com/notebooks/data_table.ipynb>data table notebook</a>'\n",
       "          + ' to learn more about interactive tables.';\n",
       "        element.innerHTML = '';\n",
       "        dataTable['output_type'] = 'display_data';\n",
       "        await google.colab.output.renderOutput(dataTable, element);\n",
       "        const docLink = document.createElement('div');\n",
       "        docLink.innerHTML = docLinkHtml;\n",
       "        element.appendChild(docLink);\n",
       "      }\n",
       "    </script>\n",
       "  </div>\n",
       "\n",
       "\n",
       "    <div id=\"df-e00ee0c1-6166-4c69-9020-918d9390e896\">\n",
       "      <button class=\"colab-df-quickchart\" onclick=\"quickchart('df-e00ee0c1-6166-4c69-9020-918d9390e896')\"\n",
       "                title=\"Suggest charts\"\n",
       "                style=\"display:none;\">\n",
       "\n",
       "<svg xmlns=\"http://www.w3.org/2000/svg\" height=\"24px\"viewBox=\"0 0 24 24\"\n",
       "     width=\"24px\">\n",
       "    <g>\n",
       "        <path d=\"M19 3H5c-1.1 0-2 .9-2 2v14c0 1.1.9 2 2 2h14c1.1 0 2-.9 2-2V5c0-1.1-.9-2-2-2zM9 17H7v-7h2v7zm4 0h-2V7h2v10zm4 0h-2v-4h2v4z\"/>\n",
       "    </g>\n",
       "</svg>\n",
       "      </button>\n",
       "\n",
       "<style>\n",
       "  .colab-df-quickchart {\n",
       "      --bg-color: #E8F0FE;\n",
       "      --fill-color: #1967D2;\n",
       "      --hover-bg-color: #E2EBFA;\n",
       "      --hover-fill-color: #174EA6;\n",
       "      --disabled-fill-color: #AAA;\n",
       "      --disabled-bg-color: #DDD;\n",
       "  }\n",
       "\n",
       "  [theme=dark] .colab-df-quickchart {\n",
       "      --bg-color: #3B4455;\n",
       "      --fill-color: #D2E3FC;\n",
       "      --hover-bg-color: #434B5C;\n",
       "      --hover-fill-color: #FFFFFF;\n",
       "      --disabled-bg-color: #3B4455;\n",
       "      --disabled-fill-color: #666;\n",
       "  }\n",
       "\n",
       "  .colab-df-quickchart {\n",
       "    background-color: var(--bg-color);\n",
       "    border: none;\n",
       "    border-radius: 50%;\n",
       "    cursor: pointer;\n",
       "    display: none;\n",
       "    fill: var(--fill-color);\n",
       "    height: 32px;\n",
       "    padding: 0;\n",
       "    width: 32px;\n",
       "  }\n",
       "\n",
       "  .colab-df-quickchart:hover {\n",
       "    background-color: var(--hover-bg-color);\n",
       "    box-shadow: 0 1px 2px rgba(60, 64, 67, 0.3), 0 1px 3px 1px rgba(60, 64, 67, 0.15);\n",
       "    fill: var(--button-hover-fill-color);\n",
       "  }\n",
       "\n",
       "  .colab-df-quickchart-complete:disabled,\n",
       "  .colab-df-quickchart-complete:disabled:hover {\n",
       "    background-color: var(--disabled-bg-color);\n",
       "    fill: var(--disabled-fill-color);\n",
       "    box-shadow: none;\n",
       "  }\n",
       "\n",
       "  .colab-df-spinner {\n",
       "    border: 2px solid var(--fill-color);\n",
       "    border-color: transparent;\n",
       "    border-bottom-color: var(--fill-color);\n",
       "    animation:\n",
       "      spin 1s steps(1) infinite;\n",
       "  }\n",
       "\n",
       "  @keyframes spin {\n",
       "    0% {\n",
       "      border-color: transparent;\n",
       "      border-bottom-color: var(--fill-color);\n",
       "      border-left-color: var(--fill-color);\n",
       "    }\n",
       "    20% {\n",
       "      border-color: transparent;\n",
       "      border-left-color: var(--fill-color);\n",
       "      border-top-color: var(--fill-color);\n",
       "    }\n",
       "    30% {\n",
       "      border-color: transparent;\n",
       "      border-left-color: var(--fill-color);\n",
       "      border-top-color: var(--fill-color);\n",
       "      border-right-color: var(--fill-color);\n",
       "    }\n",
       "    40% {\n",
       "      border-color: transparent;\n",
       "      border-right-color: var(--fill-color);\n",
       "      border-top-color: var(--fill-color);\n",
       "    }\n",
       "    60% {\n",
       "      border-color: transparent;\n",
       "      border-right-color: var(--fill-color);\n",
       "    }\n",
       "    80% {\n",
       "      border-color: transparent;\n",
       "      border-right-color: var(--fill-color);\n",
       "      border-bottom-color: var(--fill-color);\n",
       "    }\n",
       "    90% {\n",
       "      border-color: transparent;\n",
       "      border-bottom-color: var(--fill-color);\n",
       "    }\n",
       "  }\n",
       "</style>\n",
       "\n",
       "      <script>\n",
       "        async function quickchart(key) {\n",
       "          const quickchartButtonEl =\n",
       "            document.querySelector('#' + key + ' button');\n",
       "          quickchartButtonEl.disabled = true;  // To prevent multiple clicks.\n",
       "          quickchartButtonEl.classList.add('colab-df-spinner');\n",
       "          try {\n",
       "            const charts = await google.colab.kernel.invokeFunction(\n",
       "                'suggestCharts', [key], {});\n",
       "          } catch (error) {\n",
       "            console.error('Error during call to suggestCharts:', error);\n",
       "          }\n",
       "          quickchartButtonEl.classList.remove('colab-df-spinner');\n",
       "          quickchartButtonEl.classList.add('colab-df-quickchart-complete');\n",
       "        }\n",
       "        (() => {\n",
       "          let quickchartButtonEl =\n",
       "            document.querySelector('#df-e00ee0c1-6166-4c69-9020-918d9390e896 button');\n",
       "          quickchartButtonEl.style.display =\n",
       "            google.colab.kernel.accessAllowed ? 'block' : 'none';\n",
       "        })();\n",
       "      </script>\n",
       "    </div>\n",
       "\n",
       "  <div id=\"id_800174a2-8908-4514-b4cd-7b275b093b15\">\n",
       "    <style>\n",
       "      .colab-df-generate {\n",
       "        background-color: #E8F0FE;\n",
       "        border: none;\n",
       "        border-radius: 50%;\n",
       "        cursor: pointer;\n",
       "        display: none;\n",
       "        fill: #1967D2;\n",
       "        height: 32px;\n",
       "        padding: 0 0 0 0;\n",
       "        width: 32px;\n",
       "      }\n",
       "\n",
       "      .colab-df-generate:hover {\n",
       "        background-color: #E2EBFA;\n",
       "        box-shadow: 0px 1px 2px rgba(60, 64, 67, 0.3), 0px 1px 3px 1px rgba(60, 64, 67, 0.15);\n",
       "        fill: #174EA6;\n",
       "      }\n",
       "\n",
       "      [theme=dark] .colab-df-generate {\n",
       "        background-color: #3B4455;\n",
       "        fill: #D2E3FC;\n",
       "      }\n",
       "\n",
       "      [theme=dark] .colab-df-generate:hover {\n",
       "        background-color: #434B5C;\n",
       "        box-shadow: 0px 1px 3px 1px rgba(0, 0, 0, 0.15);\n",
       "        filter: drop-shadow(0px 1px 2px rgba(0, 0, 0, 0.3));\n",
       "        fill: #FFFFFF;\n",
       "      }\n",
       "    </style>\n",
       "    <button class=\"colab-df-generate\" onclick=\"generateWithVariable('train_df')\"\n",
       "            title=\"Generate code using this dataframe.\"\n",
       "            style=\"display:none;\">\n",
       "\n",
       "  <svg xmlns=\"http://www.w3.org/2000/svg\" height=\"24px\"viewBox=\"0 0 24 24\"\n",
       "       width=\"24px\">\n",
       "    <path d=\"M7,19H8.4L18.45,9,17,7.55,7,17.6ZM5,21V16.75L18.45,3.32a2,2,0,0,1,2.83,0l1.4,1.43a1.91,1.91,0,0,1,.58,1.4,1.91,1.91,0,0,1-.58,1.4L9.25,21ZM18.45,9,17,7.55Zm-12,3A5.31,5.31,0,0,0,4.9,8.1,5.31,5.31,0,0,0,1,6.5,5.31,5.31,0,0,0,4.9,4.9,5.31,5.31,0,0,0,6.5,1,5.31,5.31,0,0,0,8.1,4.9,5.31,5.31,0,0,0,12,6.5,5.46,5.46,0,0,0,6.5,12Z\"/>\n",
       "  </svg>\n",
       "    </button>\n",
       "    <script>\n",
       "      (() => {\n",
       "      const buttonEl =\n",
       "        document.querySelector('#id_800174a2-8908-4514-b4cd-7b275b093b15 button.colab-df-generate');\n",
       "      buttonEl.style.display =\n",
       "        google.colab.kernel.accessAllowed ? 'block' : 'none';\n",
       "\n",
       "      buttonEl.onclick = () => {\n",
       "        google.colab.notebook.generateWithVariable('train_df');\n",
       "      }\n",
       "      })();\n",
       "    </script>\n",
       "  </div>\n",
       "\n",
       "    </div>\n",
       "  </div>\n"
      ],
      "text/plain": [
       "                                                  texto  etiqueta\n",
       "269   control por perssitencia de cefalea surcos y c...         0\n",
       "2581  trauma leve con signos de alarma signos de san...         0\n",
       "176   contusion febril compleja, antecedentes de ane...         0\n",
       "584   codigo acv ventana 7h - extenso hematoma subdu...         0\n",
       "950   nr discreta prominencia de los surcos en las c...         0\n",
       "...                                                 ...       ...\n",
       "1335  cefalea persistente, trauma craneo encefalico ...         0\n",
       "1202  emergencia hta surcos y espacio subaracnoideo ...         0\n",
       "1142  cefalea con signos de alarma. la atenuacion de...         0\n",
       "1497  herida por proyectil de arma de fuego. signos ...         1\n",
       "2364  hemiparesia izquierda - se observan extensas z...         1\n",
       "\n",
       "[2107 rows x 2 columns]"
      ]
     },
     "execution_count": 11,
     "metadata": {},
     "output_type": "execute_result"
    }
   ],
   "source": [
    "train_df"
   ]
  },
  {
   "cell_type": "code",
   "execution_count": null,
   "metadata": {
    "colab": {
     "base_uri": "https://localhost:8080/",
     "height": 66,
     "referenced_widgets": [
      "29b114f73fd64a62ab06ddff1ea283c9",
      "64e3f0a1716d4243983047ee956cea74",
      "595875087dac4a86aa0c307022a1b496",
      "63b271c5fe6946d9a005a6f201856368",
      "4f27423392e1414b946a492bbf60bbec",
      "a2dd49c3b67144c398f3cb02cacefc26",
      "fb5bbd1b79384488b6a5a149a4c36d2e",
      "de1c74598e61401e92b20d4d76a41ec7",
      "b0390270f09a47459f6365422812be6d",
      "54fb504fb71144bfacb2362b507b4e25",
      "9d04197bbcc84ccba7b9fb424a8f914d"
     ]
    },
    "executionInfo": {
     "elapsed": 273670,
     "status": "ok",
     "timestamp": 1747351377248,
     "user": {
      "displayName": "SpicyChontaduros",
      "userId": "14089472962866803669"
     },
     "user_tz": 300
    },
    "id": "GDAfDvRpnWas",
    "outputId": "a5d7c7e1-3ce6-4e86-d3ba-ebb95311be63"
   },
   "outputs": [
    {
     "name": "stdout",
     "output_type": "stream",
     "text": [
      "Generando 1313 muestras aumentadas para equilibrar clases.\n"
     ]
    },
    {
     "data": {
      "application/vnd.jupyter.widget-view+json": {
       "model_id": "29b114f73fd64a62ab06ddff1ea283c9",
       "version_major": 2,
       "version_minor": 0
      },
      "text/plain": [
       "Augmentando textos:   0%|          | 0/1313 [00:00<?, ?it/s]"
      ]
     },
     "metadata": {},
     "output_type": "display_data"
    }
   ],
   "source": [
    "balanced_train_df = oversample(train_df)"
   ]
  },
  {
   "cell_type": "markdown",
   "metadata": {
    "id": "O2x6yrcNc5a2"
   },
   "source": [
    "### Evaluar aumentador"
   ]
  },
  {
   "cell_type": "code",
   "execution_count": null,
   "metadata": {
    "colab": {
     "base_uri": "https://localhost:8080/",
     "height": 589
    },
    "executionInfo": {
     "elapsed": 161,
     "status": "ok",
     "timestamp": 1747351377416,
     "user": {
      "displayName": "SpicyChontaduros",
      "userId": "14089472962866803669"
     },
     "user_tz": 300
    },
    "id": "RwtipYoCQe8o",
    "outputId": "735999df-2ece-4039-f796-4ff0ae9cc775"
   },
   "outputs": [
    {
     "name": "stdout",
     "output_type": "stream",
     "text": [
      "etiqueta\n",
      "0    1710\n",
      "1    1710\n",
      "Name: count, dtype: int64\n"
     ]
    },
    {
     "data": {
      "image/png": "[encoded data removed]",
      "text/plain": [
       "<Figure size 600x600 with 1 Axes>"
      ]
     },
     "metadata": {},
     "output_type": "display_data"
    }
   ],
   "source": [
    "label_counts = balanced_train_df[\"etiqueta\"].value_counts().sort_index()\n",
    "print(label_counts)\n",
    "labels = [\"No crítico (0)\", \"Crítico (1)\"] if set(label_counts.index) == {0,1} else label_counts.index.astype(str)\n",
    "\n",
    "plt.figure(figsize=(6,6))\n",
    "plt.pie(label_counts,\n",
    "        labels=labels,\n",
    "        autopct='%1.1f%%',\n",
    "        startangle=90,\n",
    "        colors=['#66b3ff', '#ff6666'],\n",
    "        explode=[0, 0.05])\n",
    "plt.title(\"Distribución de Hallazgos Críticos\")\n",
    "plt.tight_layout()\n",
    "plt.show()\n"
   ]
  },
  {
   "cell_type": "markdown",
   "metadata": {
    "id": "5Fu-VyXcI1bT"
   },
   "source": [
    "### Normalización después del oversampling"
   ]
  },
  {
   "cell_type": "code",
   "execution_count": null,
   "metadata": {
    "colab": {
     "base_uri": "https://localhost:8080/",
     "height": 49,
     "referenced_widgets": [
      "0eba9f26b47a4dd9868d70d20e96d4eb",
      "85db2cce14a949328d9a3d12c5929f88",
      "3741c735b3da4d929488b10f51a3c347",
      "98b2e46608b247b190fbc1cf3195840d",
      "59d3ea3b7ecd49b6b23dfd692fb492bb",
      "e38244e12af3424a85102543a7f2617f",
      "b8f21b42358540e28cd1ad828d7ee82d",
      "0bad099be72841f09cf5577520ddcdbd",
      "435bad83311047518dc24c9d914e578d",
      "97443816b336450184bda4bb68643394",
      "d24d6ca43bbf44e880083638c4ef6bbc"
     ]
    },
    "executionInfo": {
     "elapsed": 331,
     "status": "ok",
     "timestamp": 1747351377754,
     "user": {
      "displayName": "SpicyChontaduros",
      "userId": "14089472962866803669"
     },
     "user_tz": 300
    },
    "id": "-iAqpSOhbSEs",
    "outputId": "203cf337-97d1-4220-cddb-6190015ba186"
   },
   "outputs": [
    {
     "data": {
      "application/vnd.jupyter.widget-view+json": {
       "model_id": "0eba9f26b47a4dd9868d70d20e96d4eb",
       "version_major": 2,
       "version_minor": 0
      },
      "text/plain": [
       "  0%|          | 0/3420 [00:00<?, ?it/s]"
      ]
     },
     "metadata": {},
     "output_type": "display_data"
    }
   ],
   "source": [
    "def normalize_text(text: str) -> str:\n",
    "    s = str(text).lower()\n",
    "    s = unicodedata.normalize(\"NFKD\", s)\\\n",
    "        .encode(\"ascii\", \"ignore\")\\\n",
    "        .decode(\"utf-8\")\n",
    "    return re.sub(r\"\\s+\", \" \", s).strip()\n",
    "\n",
    "\n",
    "tqdm.pandas()\n",
    "def preprocess(text):\n",
    "    return normalize_text(text)\n",
    "\n",
    "balanced_train_df[\"texto\"] = balanced_train_df[\"texto\"].progress_apply(preprocess)"
   ]
  },
  {
   "cell_type": "code",
   "execution_count": null,
   "metadata": {
    "colab": {
     "base_uri": "https://localhost:8080/"
    },
    "executionInfo": {
     "elapsed": 20,
     "status": "ok",
     "timestamp": 1747351377779,
     "user": {
      "displayName": "SpicyChontaduros",
      "userId": "14089472962866803669"
     },
     "user_tz": 300
    },
    "id": "hDXiUDGdgWpa",
    "outputId": "4fd5fd30-a7e2-431a-e19d-749436a75b54"
   },
   "outputs": [
    {
     "name": "stdout",
     "output_type": "stream",
     "text": [
      "Filas totales tras limpieza: 3420\n",
      "Textos únicos:            3383\n",
      "Filas duplicadas:         37\n"
     ]
    }
   ],
   "source": [
    "n_total = len(balanced_train_df)\n",
    "n_unique = balanced_train_df[\"texto\"].nunique()\n",
    "print(f\"Filas totales tras limpieza: {n_total}\")\n",
    "print(f\"Textos únicos:            {n_unique}\")\n",
    "print(f\"Filas duplicadas:         {n_total - n_unique}\")"
   ]
  },
  {
   "cell_type": "code",
   "execution_count": null,
   "metadata": {
    "colab": {
     "base_uri": "https://localhost:8080/"
    },
    "executionInfo": {
     "elapsed": 12,
     "status": "ok",
     "timestamp": 1747351377795,
     "user": {
      "displayName": "SpicyChontaduros",
      "userId": "14089472962866803669"
     },
     "user_tz": 300
    },
    "id": "acNt7yWuRqcW",
    "outputId": "ba371625-7121-4da1-8c0a-36ea8daf22cf"
   },
   "outputs": [
    {
     "data": {
      "text/plain": [
       "(3383, 2)"
      ]
     },
     "execution_count": 16,
     "metadata": {},
     "output_type": "execute_result"
    }
   ],
   "source": [
    "balanced_train_df = balanced_train_df.drop_duplicates(subset=[\"texto\"], keep=\"first\").reset_index(drop=True)\n",
    "\n",
    "balanced_train_df.shape"
   ]
  },
  {
   "cell_type": "code",
   "execution_count": null,
   "metadata": {
    "colab": {
     "base_uri": "https://localhost:8080/"
    },
    "executionInfo": {
     "elapsed": 158,
     "status": "ok",
     "timestamp": 1747351377956,
     "user": {
      "displayName": "SpicyChontaduros",
      "userId": "14089472962866803669"
     },
     "user_tz": 300
    },
    "id": "iB7aFCu5m5GG",
    "outputId": "6b240dd4-02f9-4eca-c4bc-09fdaa2247e5"
   },
   "outputs": [
    {
     "name": "stdout",
     "output_type": "stream",
     "text": [
      "etiqueta\n",
      "0    1685\n",
      "1    1698\n",
      "Name: count, dtype: int64\n"
     ]
    },
    {
     "data": {
      "image/png": "[encoded data removed]",
      "text/plain": [
       "<Figure size 600x600 with 1 Axes>"
      ]
     },
     "metadata": {},
     "output_type": "display_data"
    }
   ],
   "source": [
    "label_counts = balanced_train_df[\"etiqueta\"].value_counts().sort_index()\n",
    "print(label_counts)\n",
    "labels = [\"No crítico (0)\", \"Crítico (1)\"] if set(label_counts.index) == {0,1} else label_counts.index.astype(str)\n",
    "\n",
    "plt.figure(figsize=(6,6))\n",
    "plt.pie(label_counts,\n",
    "        labels=labels,\n",
    "        autopct='%1.1f%%',\n",
    "        startangle=90,\n",
    "        colors=['#66b3ff', '#ff6666'],\n",
    "        explode=[0, 0.05])\n",
    "plt.title(\"Distribución de Hallazgos Críticos\")\n",
    "plt.tight_layout()\n",
    "plt.show()\n"
   ]
  },
  {
   "cell_type": "markdown",
   "metadata": {
    "id": "LdtlKsKudGKx"
   },
   "source": [
    "## **Exportar**"
   ]
  },
  {
   "cell_type": "code",
   "execution_count": null,
   "metadata": {
    "id": "aKK7Iv1DdNWA"
   },
   "outputs": [],
   "source": [
    "export_cols = [\n",
    "    \"texto\",\n",
    "    \"etiqueta\",\n",
    "]\n",
    "\n",
    "df_export_train = balanced_train_df[export_cols]"
   ]
  },
  {
   "cell_type": "code",
   "execution_count": null,
   "metadata": {
    "id": "RPQXqr_WdRLa"
   },
   "outputs": [],
   "source": [
    "output_path_train =  root_dir +  \"train_oversample_df.xlsx\""
   ]
  },
  {
   "cell_type": "code",
   "execution_count": null,
   "metadata": {
    "id": "zAw6LgK6dUsP"
   },
   "outputs": [],
   "source": [
    "df_export_train.to_excel(output_path_train, index=False)"
   ]
  }
 ],
 "metadata": {
  "accelerator": "GPU",
  "colab": {
   "gpuType": "T4",
   "provenance": []
  },
  "kernelspec": {
   "display_name": "Python 3",
   "name": "python3"
  },
  "language_info": {
   "codemirror_mode": {
    "name": "ipython",
    "version": 3
   },
   "file_extension": ".py",
   "mimetype": "text/x-python",
   "name": "python",
   "nbconvert_exporter": "python",
   "pygments_lexer": "ipython3",
   "version": "3.12.3"
  },
  "widgets": {
   "application/vnd.jupyter.widget-state+json": {
    "0bad099be72841f09cf5577520ddcdbd": {
     "model_module": "@jupyter-widgets/base",
     "model_module_version": "1.2.0",
     "model_name": "LayoutModel",
     "state": {
      "_model_module": "@jupyter-widgets/base",
      "_model_module_version": "1.2.0",
      "_model_name": "LayoutModel",
      "_view_count": null,
      "_view_module": "@jupyter-widgets/base",
      "_view_module_version": "1.2.0",
      "_view_name": "LayoutView",
      "align_content": null,
      "align_items": null,
      "align_self": null,
      "border": null,
      "bottom": null,
      "display": null,
      "flex": null,
      "flex_flow": null,
      "grid_area": null,
      "grid_auto_columns": null,
      "grid_auto_flow": null,
      "grid_auto_rows": null,
      "grid_column": null,
      "grid_gap": null,
      "grid_row": null,
      "grid_template_areas": null,
      "grid_template_columns": null,
      "grid_template_rows": null,
      "height": null,
      "justify_content": null,
      "justify_items": null,
      "left": null,
      "margin": null,
      "max_height": null,
      "max_width": null,
      "min_height": null,
      "min_width": null,
      "object_fit": null,
      "object_position": null,
      "order": null,
      "overflow": null,
      "overflow_x": null,
      "overflow_y": null,
      "padding": null,
      "right": null,
      "top": null,
      "visibility": null,
      "width": null
     }
    },
    "0eba9f26b47a4dd9868d70d20e96d4eb": {
     "model_module": "@jupyter-widgets/controls",
     "model_module_version": "1.5.0",
     "model_name": "HBoxModel",
     "state": {
      "_dom_classes": [],
      "_model_module": "@jupyter-widgets/controls",
      "_model_module_version": "1.5.0",
      "_model_name": "HBoxModel",
      "_view_count": null,
      "_view_module": "@jupyter-widgets/controls",
      "_view_module_version": "1.5.0",
      "_view_name": "HBoxView",
      "box_style": "",
      "children": [
       "IPY_MODEL_85db2cce14a949328d9a3d12c5929f88",
       "IPY_MODEL_3741c735b3da4d929488b10f51a3c347",
       "IPY_MODEL_98b2e46608b247b190fbc1cf3195840d"
      ],
      "layout": "IPY_MODEL_59d3ea3b7ecd49b6b23dfd692fb492bb"
     }
    },
    "29b114f73fd64a62ab06ddff1ea283c9": {
     "model_module": "@jupyter-widgets/controls",
     "model_module_version": "1.5.0",
     "model_name": "HBoxModel",
     "state": {
      "_dom_classes": [],
      "_model_module": "@jupyter-widgets/controls",
      "_model_module_version": "1.5.0",
      "_model_name": "HBoxModel",
      "_view_count": null,
      "_view_module": "@jupyter-widgets/controls",
      "_view_module_version": "1.5.0",
      "_view_name": "HBoxView",
      "box_style": "",
      "children": [
       "IPY_MODEL_64e3f0a1716d4243983047ee956cea74",
       "IPY_MODEL_595875087dac4a86aa0c307022a1b496",
       "IPY_MODEL_63b271c5fe6946d9a005a6f201856368"
      ],
      "layout": "IPY_MODEL_4f27423392e1414b946a492bbf60bbec"
     }
    },
    "3741c735b3da4d929488b10f51a3c347": {
     "model_module": "@jupyter-widgets/controls",
     "model_module_version": "1.5.0",
     "model_name": "FloatProgressModel",
     "state": {
      "_dom_classes": [],
      "_model_module": "@jupyter-widgets/controls",
      "_model_module_version": "1.5.0",
      "_model_name": "FloatProgressModel",
      "_view_count": null,
      "_view_module": "@jupyter-widgets/controls",
      "_view_module_version": "1.5.0",
      "_view_name": "ProgressView",
      "bar_style": "success",
      "description": "",
      "description_tooltip": null,
      "layout": "IPY_MODEL_0bad099be72841f09cf5577520ddcdbd",
      "max": 3420,
      "min": 0,
      "orientation": "horizontal",
      "style": "IPY_MODEL_435bad83311047518dc24c9d914e578d",
      "value": 3420
     }
    },
    "435bad83311047518dc24c9d914e578d": {
     "model_module": "@jupyter-widgets/controls",
     "model_module_version": "1.5.0",
     "model_name": "ProgressStyleModel",
     "state": {
      "_model_module": "@jupyter-widgets/controls",
      "_model_module_version": "1.5.0",
      "_model_name": "ProgressStyleModel",
      "_view_count": null,
      "_view_module": "@jupyter-widgets/base",
      "_view_module_version": "1.2.0",
      "_view_name": "StyleView",
      "bar_color": null,
      "description_width": ""
     }
    },
    "4f27423392e1414b946a492bbf60bbec": {
     "model_module": "@jupyter-widgets/base",
     "model_module_version": "1.2.0",
     "model_name": "LayoutModel",
     "state": {
      "_model_module": "@jupyter-widgets/base",
      "_model_module_version": "1.2.0",
      "_model_name": "LayoutModel",
      "_view_count": null,
      "_view_module": "@jupyter-widgets/base",
      "_view_module_version": "1.2.0",
      "_view_name": "LayoutView",
      "align_content": null,
      "align_items": null,
      "align_self": null,
      "border": null,
      "bottom": null,
      "display": null,
      "flex": null,
      "flex_flow": null,
      "grid_area": null,
      "grid_auto_columns": null,
      "grid_auto_flow": null,
      "grid_auto_rows": null,
      "grid_column": null,
      "grid_gap": null,
      "grid_row": null,
      "grid_template_areas": null,
      "grid_template_columns": null,
      "grid_template_rows": null,
      "height": null,
      "justify_content": null,
      "justify_items": null,
      "left": null,
      "margin": null,
      "max_height": null,
      "max_width": null,
      "min_height": null,
      "min_width": null,
      "object_fit": null,
      "object_position": null,
      "order": null,
      "overflow": null,
      "overflow_x": null,
      "overflow_y": null,
      "padding": null,
      "right": null,
      "top": null,
      "visibility": null,
      "width": null
     }
    },
    "54fb504fb71144bfacb2362b507b4e25": {
     "model_module": "@jupyter-widgets/base",
     "model_module_version": "1.2.0",
     "model_name": "LayoutModel",
     "state": {
      "_model_module": "@jupyter-widgets/base",
      "_model_module_version": "1.2.0",
      "_model_name": "LayoutModel",
      "_view_count": null,
      "_view_module": "@jupyter-widgets/base",
      "_view_module_version": "1.2.0",
      "_view_name": "LayoutView",
      "align_content": null,
      "align_items": null,
      "align_self": null,
      "border": null,
      "bottom": null,
      "display": null,
      "flex": null,
      "flex_flow": null,
      "grid_area": null,
      "grid_auto_columns": null,
      "grid_auto_flow": null,
      "grid_auto_rows": null,
      "grid_column": null,
      "grid_gap": null,
      "grid_row": null,
      "grid_template_areas": null,
      "grid_template_columns": null,
      "grid_template_rows": null,
      "height": null,
      "justify_content": null,
      "justify_items": null,
      "left": null,
      "margin": null,
      "max_height": null,
      "max_width": null,
      "min_height": null,
      "min_width": null,
      "object_fit": null,
      "object_position": null,
      "order": null,
      "overflow": null,
      "overflow_x": null,
      "overflow_y": null,
      "padding": null,
      "right": null,
      "top": null,
      "visibility": null,
      "width": null
     }
    },
    "595875087dac4a86aa0c307022a1b496": {
     "model_module": "@jupyter-widgets/controls",
     "model_module_version": "1.5.0",
     "model_name": "FloatProgressModel",
     "state": {
      "_dom_classes": [],
      "_model_module": "@jupyter-widgets/controls",
      "_model_module_version": "1.5.0",
      "_model_name": "FloatProgressModel",
      "_view_count": null,
      "_view_module": "@jupyter-widgets/controls",
      "_view_module_version": "1.5.0",
      "_view_name": "ProgressView",
      "bar_style": "success",
      "description": "",
      "description_tooltip": null,
      "layout": "IPY_MODEL_de1c74598e61401e92b20d4d76a41ec7",
      "max": 1313,
      "min": 0,
      "orientation": "horizontal",
      "style": "IPY_MODEL_b0390270f09a47459f6365422812be6d",
      "value": 1313
     }
    },
    "59d3ea3b7ecd49b6b23dfd692fb492bb": {
     "model_module": "@jupyter-widgets/base",
     "model_module_version": "1.2.0",
     "model_name": "LayoutModel",
     "state": {
      "_model_module": "@jupyter-widgets/base",
      "_model_module_version": "1.2.0",
      "_model_name": "LayoutModel",
      "_view_count": null,
      "_view_module": "@jupyter-widgets/base",
      "_view_module_version": "1.2.0",
      "_view_name": "LayoutView",
      "align_content": null,
      "align_items": null,
      "align_self": null,
      "border": null,
      "bottom": null,
      "display": null,
      "flex": null,
      "flex_flow": null,
      "grid_area": null,
      "grid_auto_columns": null,
      "grid_auto_flow": null,
      "grid_auto_rows": null,
      "grid_column": null,
      "grid_gap": null,
      "grid_row": null,
      "grid_template_areas": null,
      "grid_template_columns": null,
      "grid_template_rows": null,
      "height": null,
      "justify_content": null,
      "justify_items": null,
      "left": null,
      "margin": null,
      "max_height": null,
      "max_width": null,
      "min_height": null,
      "min_width": null,
      "object_fit": null,
      "object_position": null,
      "order": null,
      "overflow": null,
      "overflow_x": null,
      "overflow_y": null,
      "padding": null,
      "right": null,
      "top": null,
      "visibility": null,
      "width": null
     }
    },
    "63b271c5fe6946d9a005a6f201856368": {
     "model_module": "@jupyter-widgets/controls",
     "model_module_version": "1.5.0",
     "model_name": "HTMLModel",
     "state": {
      "_dom_classes": [],
      "_model_module": "@jupyter-widgets/controls",
      "_model_module_version": "1.5.0",
      "_model_name": "HTMLModel",
      "_view_count": null,
      "_view_module": "@jupyter-widgets/controls",
      "_view_module_version": "1.5.0",
      "_view_name": "HTMLView",
      "description": "",
      "description_tooltip": null,
      "layout": "IPY_MODEL_54fb504fb71144bfacb2362b507b4e25",
      "placeholder": "​",
      "style": "IPY_MODEL_9d04197bbcc84ccba7b9fb424a8f914d",
      "value": " 1313/1313 [04:33&lt;00:00,  4.24it/s]"
     }
    },
    "64e3f0a1716d4243983047ee956cea74": {
     "model_module": "@jupyter-widgets/controls",
     "model_module_version": "1.5.0",
     "model_name": "HTMLModel",
     "state": {
      "_dom_classes": [],
      "_model_module": "@jupyter-widgets/controls",
      "_model_module_version": "1.5.0",
      "_model_name": "HTMLModel",
      "_view_count": null,
      "_view_module": "@jupyter-widgets/controls",
      "_view_module_version": "1.5.0",
      "_view_name": "HTMLView",
      "description": "",
      "description_tooltip": null,
      "layout": "IPY_MODEL_a2dd49c3b67144c398f3cb02cacefc26",
      "placeholder": "​",
      "style": "IPY_MODEL_fb5bbd1b79384488b6a5a149a4c36d2e",
      "value": "Augmentando textos: 100%"
     }
    },
    "85db2cce14a949328d9a3d12c5929f88": {
     "model_module": "@jupyter-widgets/controls",
     "model_module_version": "1.5.0",
     "model_name": "HTMLModel",
     "state": {
      "_dom_classes": [],
      "_model_module": "@jupyter-widgets/controls",
      "_model_module_version": "1.5.0",
      "_model_name": "HTMLModel",
      "_view_count": null,
      "_view_module": "@jupyter-widgets/controls",
      "_view_module_version": "1.5.0",
      "_view_name": "HTMLView",
      "description": "",
      "description_tooltip": null,
      "layout": "IPY_MODEL_e38244e12af3424a85102543a7f2617f",
      "placeholder": "​",
      "style": "IPY_MODEL_b8f21b42358540e28cd1ad828d7ee82d",
      "value": "100%"
     }
    },
    "97443816b336450184bda4bb68643394": {
     "model_module": "@jupyter-widgets/base",
     "model_module_version": "1.2.0",
     "model_name": "LayoutModel",
     "state": {
      "_model_module": "@jupyter-widgets/base",
      "_model_module_version": "1.2.0",
      "_model_name": "LayoutModel",
      "_view_count": null,
      "_view_module": "@jupyter-widgets/base",
      "_view_module_version": "1.2.0",
      "_view_name": "LayoutView",
      "align_content": null,
      "align_items": null,
      "align_self": null,
      "border": null,
      "bottom": null,
      "display": null,
      "flex": null,
      "flex_flow": null,
      "grid_area": null,
      "grid_auto_columns": null,
      "grid_auto_flow": null,
      "grid_auto_rows": null,
      "grid_column": null,
      "grid_gap": null,
      "grid_row": null,
      "grid_template_areas": null,
      "grid_template_columns": null,
      "grid_template_rows": null,
      "height": null,
      "justify_content": null,
      "justify_items": null,
      "left": null,
      "margin": null,
      "max_height": null,
      "max_width": null,
      "min_height": null,
      "min_width": null,
      "object_fit": null,
      "object_position": null,
      "order": null,
      "overflow": null,
      "overflow_x": null,
      "overflow_y": null,
      "padding": null,
      "right": null,
      "top": null,
      "visibility": null,
      "width": null
     }
    },
    "98b2e46608b247b190fbc1cf3195840d": {
     "model_module": "@jupyter-widgets/controls",
     "model_module_version": "1.5.0",
     "model_name": "HTMLModel",
     "state": {
      "_dom_classes": [],
      "_model_module": "@jupyter-widgets/controls",
      "_model_module_version": "1.5.0",
      "_model_name": "HTMLModel",
      "_view_count": null,
      "_view_module": "@jupyter-widgets/controls",
      "_view_module_version": "1.5.0",
      "_view_name": "HTMLView",
      "description": "",
      "description_tooltip": null,
      "layout": "IPY_MODEL_97443816b336450184bda4bb68643394",
      "placeholder": "​",
      "style": "IPY_MODEL_d24d6ca43bbf44e880083638c4ef6bbc",
      "value": " 3420/3420 [00:00&lt;00:00, 10218.64it/s]"
     }
    },
    "9d04197bbcc84ccba7b9fb424a8f914d": {
     "model_module": "@jupyter-widgets/controls",
     "model_module_version": "1.5.0",
     "model_name": "DescriptionStyleModel",
     "state": {
      "_model_module": "@jupyter-widgets/controls",
      "_model_module_version": "1.5.0",
      "_model_name": "DescriptionStyleModel",
      "_view_count": null,
      "_view_module": "@jupyter-widgets/base",
      "_view_module_version": "1.2.0",
      "_view_name": "StyleView",
      "description_width": ""
     }
    },
    "a2dd49c3b67144c398f3cb02cacefc26": {
     "model_module": "@jupyter-widgets/base",
     "model_module_version": "1.2.0",
     "model_name": "LayoutModel",
     "state": {
      "_model_module": "@jupyter-widgets/base",
      "_model_module_version": "1.2.0",
      "_model_name": "LayoutModel",
      "_view_count": null,
      "_view_module": "@jupyter-widgets/base",
      "_view_module_version": "1.2.0",
      "_view_name": "LayoutView",
      "align_content": null,
      "align_items": null,
      "align_self": null,
      "border": null,
      "bottom": null,
      "display": null,
      "flex": null,
      "flex_flow": null,
      "grid_area": null,
      "grid_auto_columns": null,
      "grid_auto_flow": null,
      "grid_auto_rows": null,
      "grid_column": null,
      "grid_gap": null,
      "grid_row": null,
      "grid_template_areas": null,
      "grid_template_columns": null,
      "grid_template_rows": null,
      "height": null,
      "justify_content": null,
      "justify_items": null,
      "left": null,
      "margin": null,
      "max_height": null,
      "max_width": null,
      "min_height": null,
      "min_width": null,
      "object_fit": null,
      "object_position": null,
      "order": null,
      "overflow": null,
      "overflow_x": null,
      "overflow_y": null,
      "padding": null,
      "right": null,
      "top": null,
      "visibility": null,
      "width": null
     }
    },
    "b0390270f09a47459f6365422812be6d": {
     "model_module": "@jupyter-widgets/controls",
     "model_module_version": "1.5.0",
     "model_name": "ProgressStyleModel",
     "state": {
      "_model_module": "@jupyter-widgets/controls",
      "_model_module_version": "1.5.0",
      "_model_name": "ProgressStyleModel",
      "_view_count": null,
      "_view_module": "@jupyter-widgets/base",
      "_view_module_version": "1.2.0",
      "_view_name": "StyleView",
      "bar_color": null,
      "description_width": ""
     }
    },
    "b8f21b42358540e28cd1ad828d7ee82d": {
     "model_module": "@jupyter-widgets/controls",
     "model_module_version": "1.5.0",
     "model_name": "DescriptionStyleModel",
     "state": {
      "_model_module": "@jupyter-widgets/controls",
      "_model_module_version": "1.5.0",
      "_model_name": "DescriptionStyleModel",
      "_view_count": null,
      "_view_module": "@jupyter-widgets/base",
      "_view_module_version": "1.2.0",
      "_view_name": "StyleView",
      "description_width": ""
     }
    },
    "d24d6ca43bbf44e880083638c4ef6bbc": {
     "model_module": "@jupyter-widgets/controls",
     "model_module_version": "1.5.0",
     "model_name": "DescriptionStyleModel",
     "state": {
      "_model_module": "@jupyter-widgets/controls",
      "_model_module_version": "1.5.0",
      "_model_name": "DescriptionStyleModel",
      "_view_count": null,
      "_view_module": "@jupyter-widgets/base",
      "_view_module_version": "1.2.0",
      "_view_name": "StyleView",
      "description_width": ""
     }
    },
    "de1c74598e61401e92b20d4d76a41ec7": {
     "model_module": "@jupyter-widgets/base",
     "model_module_version": "1.2.0",
     "model_name": "LayoutModel",
     "state": {
      "_model_module": "@jupyter-widgets/base",
      "_model_module_version": "1.2.0",
      "_model_name": "LayoutModel",
      "_view_count": null,
      "_view_module": "@jupyter-widgets/base",
      "_view_module_version": "1.2.0",
      "_view_name": "LayoutView",
      "align_content": null,
      "align_items": null,
      "align_self": null,
      "border": null,
      "bottom": null,
      "display": null,
      "flex": null,
      "flex_flow": null,
      "grid_area": null,
      "grid_auto_columns": null,
      "grid_auto_flow": null,
      "grid_auto_rows": null,
      "grid_column": null,
      "grid_gap": null,
      "grid_row": null,
      "grid_template_areas": null,
      "grid_template_columns": null,
      "grid_template_rows": null,
      "height": null,
      "justify_content": null,
      "justify_items": null,
      "left": null,
      "margin": null,
      "max_height": null,
      "max_width": null,
      "min_height": null,
      "min_width": null,
      "object_fit": null,
      "object_position": null,
      "order": null,
      "overflow": null,
      "overflow_x": null,
      "overflow_y": null,
      "padding": null,
      "right": null,
      "top": null,
      "visibility": null,
      "width": null
     }
    },
    "e38244e12af3424a85102543a7f2617f": {
     "model_module": "@jupyter-widgets/base",
     "model_module_version": "1.2.0",
     "model_name": "LayoutModel",
     "state": {
      "_model_module": "@jupyter-widgets/base",
      "_model_module_version": "1.2.0",
      "_model_name": "LayoutModel",
      "_view_count": null,
      "_view_module": "@jupyter-widgets/base",
      "_view_module_version": "1.2.0",
      "_view_name": "LayoutView",
      "align_content": null,
      "align_items": null,
      "align_self": null,
      "border": null,
      "bottom": null,
      "display": null,
      "flex": null,
      "flex_flow": null,
      "grid_area": null,
      "grid_auto_columns": null,
      "grid_auto_flow": null,
      "grid_auto_rows": null,
      "grid_column": null,
      "grid_gap": null,
      "grid_row": null,
      "grid_template_areas": null,
      "grid_template_columns": null,
      "grid_template_rows": null,
      "height": null,
      "justify_content": null,
      "justify_items": null,
      "left": null,
      "margin": null,
      "max_height": null,
      "max_width": null,
      "min_height": null,
      "min_width": null,
      "object_fit": null,
      "object_position": null,
      "order": null,
      "overflow": null,
      "overflow_x": null,
      "overflow_y": null,
      "padding": null,
      "right": null,
      "top": null,
      "visibility": null,
      "width": null
     }
    },
    "fb5bbd1b79384488b6a5a149a4c36d2e": {
     "model_module": "@jupyter-widgets/controls",
     "model_module_version": "1.5.0",
     "model_name": "DescriptionStyleModel",
     "state": {
      "_model_module": "@jupyter-widgets/controls",
      "_model_module_version": "1.5.0",
      "_model_name": "DescriptionStyleModel",
      "_view_count": null,
      "_view_module": "@jupyter-widgets/base",
      "_view_module_version": "1.2.0",
      "_view_name": "StyleView",
      "description_width": ""
     }
    }
   }
  }
 },
 "nbformat": 4,
 "nbformat_minor": 0
}
