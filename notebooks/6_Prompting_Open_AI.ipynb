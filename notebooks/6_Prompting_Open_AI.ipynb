{
 "cells": [
  {
   "cell_type": "markdown",
   "metadata": {
    "id": "9xNfdVUqHLrr"
   },
   "source": [
    "# Prompting"
   ]
  },
  {
   "cell_type": "markdown",
   "metadata": {
    "id": "RA_2wt1uHQQ7"
   },
   "source": [
    "### **1. Instalación e importación de librerías**\n",
    "\n",
    "Se instalan y cargan las librerías necesarias para procesamiento de lenguaje natural (`transformers`, `datasets`), modelado y entrenamiento con PyTorch (`torch`), manejo y preprocesamiento de datos (`pandas`, `scikit-learn`), y visualización (`matplotlib`, `seaborn`).\n",
    "Estas herramientas permiten tanto el uso de modelos avanzados de IA como el análisis y visualización de los resultados."
   ]
  },
  {
   "cell_type": "code",
   "execution_count": null,
   "metadata": {
    "colab": {
     "base_uri": "https://localhost:8080/"
    },
    "id": "bBhNEboooVWY",
    "outputId": "0aef2cbf-7558-494f-8e49-60e1e9e1f090"
   },
   "outputs": [],
   "source": [
    "!pip install transformers\n",
    "!pip install datasets\n",
    "!pip install torch"
   ]
  },
  {
   "cell_type": "code",
   "execution_count": null,
   "metadata": {
    "id": "1Z0WNPcXocrq"
   },
   "outputs": [],
   "source": [
    "import torch\n",
    "import torch.nn as nn\n",
    "from torch.utils.data import DataLoader\n",
    "from transformers import AutoTokenizer, AutoModelForSequenceClassification, get_linear_schedule_with_warmup\n",
    "from torch.optim import AdamW\n",
    "import pandas as pd\n",
    "from sklearn.model_selection import train_test_split\n",
    "from datasets import Dataset\n",
    "from sklearn.metrics import confusion_matrix, ConfusionMatrixDisplay, accuracy_score, precision_recall_fscore_support\n",
    "import matplotlib.pyplot as plt"
   ]
  },
  {
   "cell_type": "markdown",
   "metadata": {
    "id": "3rK42Y-QHT1g"
   },
   "source": [
    "### **2. Montar Google Drive y definir rutas**\n",
    "\n",
    "Se monta Google Drive para acceder a archivos de datos de entrenamiento y prueba. Se definen rutas a los archivos CSV que contienen los informes radiológicos ya preprocesados y limpios, así como los archivos de entrenamiento aumentados y de test."
   ]
  },
  {
   "cell_type": "code",
   "execution_count": null,
   "metadata": {
    "colab": {
     "base_uri": "https://localhost:8080/"
    },
    "id": "cilmijeaof8G",
    "outputId": "ef349052-3239-4df7-973e-c9aae7d6a589"
   },
   "outputs": [],
   "source": [
    "from google.colab import drive\n",
    "drive.mount('/content/drive')"
   ]
  },
  {
   "cell_type": "markdown",
   "metadata": {
    "id": "Aqn7vQ3mHZ6T"
   },
   "source": [
    "### **3. Carga de datos**\n",
    "\n",
    "Se carga el conjunto principal de datos (`datos_limpios.csv`) usando pandas, lo que permite manipular los informes radiológicos y sus etiquetas en memoria para su posterior procesamiento y análisis."
   ]
  },
  {
   "cell_type": "code",
   "execution_count": null,
   "metadata": {
    "id": "UcZhqpR-ogaC"
   },
   "outputs": [],
   "source": [
    "#root_dir = \"/content/drive/MyDrive/aaa/\"\n",
    "root_dir = r\"/content/drive/MyDrive/Proyecto-de-Grado-RAD-Alert/Oficial/Ahora-si-este-fue/data/\"\n",
    "#root_dir = r\"/content/drive/MyDrive/\"\n",
    "\n",
    "path_df = root_dir + \"datos_limpios.csv\"\n",
    "path_train = root_dir + \"datos_limpios_aumentados_entrenamiento.csv\"\n",
    "path_test = root_dir + \"datos_limpios_prueba.csv\""
   ]
  },
  {
   "cell_type": "code",
   "execution_count": null,
   "metadata": {
    "id": "0cAkYbEvojnH"
   },
   "outputs": [],
   "source": [
    "df_train = pd.read_csv(path_df)"
   ]
  },
  {
   "cell_type": "markdown",
   "metadata": {
    "id": "ZlR-tP9lHbaA"
   },
   "source": [
    "### **4. Configuración de la API de OpenAI**\n",
    "\n",
    "Se configura el cliente de OpenAI para interactuar con modelos de lenguaje avanzados (GPT-3.5, GPT-4).\n",
    "Esto permite utilizar la API de OpenAI para hacer clasificación de textos clínicos, es decir, para que un modelo de IA determine si un informe radiológico es “crítico” o “no crítico”.\n"
   ]
  },
  {
   "cell_type": "markdown",
   "metadata": {
    "id": "yDaM9pOMIEOy"
   },
   "source": [
    "### **5. Función para clasificación con OpenAI**\n",
    "\n",
    "Se define la función `classify_openai`, que recibe un texto y le solicita a GPT que lo clasifique como **crítico (1)** o **no crítico (0)**, basándose únicamente en el contenido del informe radiológico, sin suposiciones ni explicaciones adicionales.\n",
    "Esto fuerza al modelo a dar una respuesta objetiva y clara, útil para comparar su rendimiento frente a métodos tradicionales."
   ]
  },
  {
   "cell_type": "code",
   "execution_count": null,
   "metadata": {
    "id": "WyLT8OcXpHTv"
   },
   "outputs": [],
   "source": [
    "import openai\n",
    "\n",
    "client = openai.OpenAI(api_key=\"sk\")\n",
    "\n",
    "def classify_openai(text):\n",
    "    prompt = (\n",
    "        f\"Analiza el siguiente informe radiológico escrito en español y determina si contiene hallazgos clínicos **críticos** que requieren atención médica urgente. \"\n",
    "        f\"Un informe se considera crítico si describe condiciones potencialmente mortales, cambios agudos severos, o hallazgos que requieren una intervención inmediata. \"\n",
    "        f\"No inventes ni asumas información adicional; basa tu decisión solo en el contenido del texto. \"\n",
    "        f\"Responde estrictamente con un solo número: **1** si el informe es crítico, o **0** si no lo es. No añadas explicaciones ni comentarios.\\n\\n\\\"{text}\\\"\"\n",
    "    )\n",
    "\n",
    "\n",
    "    try:\n",
    "        response = client.chat.completions.create(\n",
    "            model=\"gpt-3.5-turbo\",  # o \"gpt-4\"\n",
    "            messages=[{\"role\": \"user\", \"content\": prompt}],\n",
    "            temperature=0.4,\n",
    "            max_tokens=150,\n",
    "        )\n",
    "        return response.choices[0].message.content.strip()\n",
    "\n",
    "    except Exception as e:\n",
    "        print(\"❌ Error al generar contenido con OpenAI:\", e)\n",
    "        return text"
   ]
  },
  {
   "cell_type": "code",
   "execution_count": null,
   "metadata": {
    "colab": {
     "base_uri": "https://localhost:8080/",
     "height": 424
    },
    "id": "clZXf-Nhpqyq",
    "outputId": "636e0a0d-2c06-4eee-d9c2-7a3678c11868"
   },
   "outputs": [],
   "source": [
    "df_train"
   ]
  },
  {
   "cell_type": "markdown",
   "metadata": {
    "id": "wcPGOjJkIOun"
   },
   "source": [
    "### **6. Predicción sobre todos los informes**\n",
    "\n",
    "Se utiliza la función anterior para procesar todos los informes del DataFrame con una barra de progreso (`tqdm`).\n",
    "Para cada informe, se guarda la predicción de OpenAI junto al texto y la etiqueta real."
   ]
  },
  {
   "cell_type": "code",
   "execution_count": null,
   "metadata": {
    "colab": {
     "base_uri": "https://localhost:8080/",
     "height": 49,
     "referenced_widgets": [
      "cefd4a92995743bca508dea253dc2c71",
      "c3cfca109c274987ba11580a14a235a6",
      "645b272db6e34cd4bb095f67a356039e",
      "647d40a02d5a4eda83d07c21ac926d0c",
      "937a46f9c21d40d1a404ac9756eefeeb",
      "52eb8067ab30423596c3d00368efbc2e",
      "4815ec89d1d34365b6f5fb653859d241",
      "2d094ecf9dfa45e5a011953410b69e50",
      "873ddb34ee0a4e1b850c3872b216ae98",
      "e8a8b8054867446f90b03a12f311129c",
      "aec2eaae083c47329b6938c28fc04edb"
     ]
    },
    "id": "2e4vWC_-qfB2",
    "outputId": "d637db1b-3198-4727-cdb5-9ccf8d1f414c"
   },
   "outputs": [],
   "source": [
    "from tqdm.auto import tqdm\n",
    "\n",
    "# Lista para guardar predicciones\n",
    "predicciones = []\n",
    "\n",
    "# Recorrer DataFrame con tqdm para barra de progreso\n",
    "for _, row in tqdm(df_train.iterrows(), total=len(df_train)):\n",
    "    pred = classify_openai(row[\"texto\"])\n",
    "    predicciones.append(pred)\n",
    "\n",
    "# Agregar predicciones al DataFrame\n",
    "df_train[\"prediccion_openai\"] = predicciones\n"
   ]
  },
  {
   "cell_type": "code",
   "execution_count": null,
   "metadata": {
    "colab": {
     "base_uri": "https://localhost:8080/",
     "height": 424
    },
    "id": "p3Ngl4y_OBbM",
    "outputId": "07b17918-3dc9-47a1-deba-cc1aad3ba11b"
   },
   "outputs": [],
   "source": [
    "df_train"
   ]
  },
  {
   "cell_type": "markdown",
   "metadata": {
    "id": "lr1g-UEvIeq2"
   },
   "source": [
    "### **7. Limpieza y formateo de las predicciones**\n",
    "\n",
    "Las predicciones se convierten a tipo numérico para asegurar que no haya problemas de formato. Se eliminan espacios en blanco y se manejan posibles valores nulos o incorrectos, garantizando que los datos estén listos para análisis.\n"
   ]
  },
  {
   "cell_type": "code",
   "execution_count": null,
   "metadata": {
    "id": "o5hLDfgtPAUv"
   },
   "outputs": [],
   "source": [
    "df_train['prediccion_openai'] = df_train['prediccion_openai'].astype(str).str.strip()\n",
    "df_train['prediccion_openai'] = pd.to_numeric(df_train['prediccion_openai'], errors='coerce').astype('Int64')"
   ]
  },
  {
   "cell_type": "code",
   "execution_count": null,
   "metadata": {
    "colab": {
     "base_uri": "https://localhost:8080/"
    },
    "id": "6Dm3KpZ9O8vt",
    "outputId": "3a615b11-2578-4960-bbac-42fedd165e98"
   },
   "outputs": [],
   "source": [
    "df_train.info()"
   ]
  },
  {
   "cell_type": "markdown",
   "metadata": {
    "id": "SBK6NR7YPK3s"
   },
   "source": [
    "df_train"
   ]
  },
  {
   "cell_type": "markdown",
   "metadata": {
    "id": "MTQl8J9dIgy0"
   },
   "source": [
    "### **8. Cálculo de aciertos (accuracy)**\n",
    "\n",
    "Se crea una nueva columna (`acierto`) que indica si la predicción de OpenAI coincide con la etiqueta real.\n",
    "Luego, se calcula el **accuracy** general del modelo OpenAI sobre la muestra: el porcentaje de informes correctamente clasificados como críticos o no críticos."
   ]
  },
  {
   "cell_type": "code",
   "execution_count": null,
   "metadata": {
    "id": "1oPsaAORPx87"
   },
   "outputs": [],
   "source": [
    "df_train['acierto'] = df_train['prediccion_openai'] == df_train['etiqueta']"
   ]
  },
  {
   "cell_type": "code",
   "execution_count": null,
   "metadata": {
    "colab": {
     "base_uri": "https://localhost:8080/"
    },
    "id": "77IRGdQ0H3lB",
    "outputId": "0ddf0863-0c6e-4305-918c-160a0955eb69"
   },
   "outputs": [],
   "source": [
    "# Resultados\n",
    "accuracy = df_train[\"acierto\"].mean()\n",
    "print(f\"\\n✅ Precisión del modelo OpenAI en esta muestra: {accuracy:.2%}\")"
   ]
  },
  {
   "cell_type": "code",
   "execution_count": null,
   "metadata": {
    "colab": {
     "base_uri": "https://localhost:8080/",
     "height": 105
    },
    "id": "0xQcGfgaNXyZ",
    "outputId": "7403d1b9-97f1-4afc-c7ee-f43e9412a5dd"
   },
   "outputs": [],
   "source": [
    "df_train['texto'][4]"
   ]
  },
  {
   "cell_type": "code",
   "execution_count": null,
   "metadata": {
    "colab": {
     "base_uri": "https://localhost:8080/"
    },
    "id": "VQvPe35OP8aK",
    "outputId": "5767d670-61a7-41f1-82f2-1adcaf14e9c4"
   },
   "outputs": [],
   "source": [
    "conf_matrix = pd.crosstab(df_train['etiqueta'], df_train['prediccion_openai'], rownames=['Actual'], colnames=['Predicción'], dropna=False)\n",
    "print(conf_matrix)"
   ]
  },
  {
   "cell_type": "markdown",
   "metadata": {
    "id": "_prpQKFMIi_p"
   },
   "source": [
    "### **9. Matriz de confusión**\n",
    "\n",
    "Se construye y visualiza una matriz de confusión que muestra cuántos informes críticos/no críticos fueron clasificados correctamente o incorrectamente por el modelo de OpenAI.\n",
    "Esta matriz es fundamental para entender no solo el accuracy, sino también si el modelo tiende a confundir las clases (por ejemplo, dar falsos negativos)."
   ]
  },
  {
   "cell_type": "code",
   "execution_count": null,
   "metadata": {
    "colab": {
     "base_uri": "https://localhost:8080/",
     "height": 472
    },
    "id": "Q6MSatY3P_Dq",
    "outputId": "1bcfe6c4-b729-4207-bf13-d2830755e6d8"
   },
   "outputs": [],
   "source": [
    "from sklearn.metrics import confusion_matrix\n",
    "import seaborn as sns\n",
    "import matplotlib.pyplot as plt\n",
    "\n",
    "# Elimina filas con NaN si las hay\n",
    "df_clean = df_train.dropna(subset=['etiqueta', 'prediccion_openai'])\n",
    "\n",
    "cm = confusion_matrix(df_clean['etiqueta'], df_clean['prediccion_openai'])\n",
    "\n",
    "# Visualización\n",
    "sns.heatmap(cm, annot=True, fmt='d', cmap='Blues')\n",
    "plt.xlabel('Predicción')\n",
    "plt.ylabel('Actual')\n",
    "plt.title('Matriz de Confusión')\n",
    "plt.show()"
   ]
  },
  {
   "cell_type": "code",
   "execution_count": null,
   "metadata": {
    "colab": {
     "base_uri": "https://localhost:8080/"
    },
    "id": "4W6jX2pPQQrB",
    "outputId": "8e255ea7-a230-4e66-d17b-5f1f3dd33d99"
   },
   "outputs": [],
   "source": [
    "from sklearn.metrics import classification_report, accuracy_score\n",
    "\n",
    "# Elimina filas con NaN si es necesario\n",
    "df_clean = df_train.dropna(subset=['etiqueta', 'prediccion_openai'])\n",
    "\n",
    "# Métricas detalladas\n",
    "print(classification_report(df_clean['etiqueta'], df_clean['prediccion_openai'], digits=4))\n",
    "\n",
    "# Accuracy por separado (opcional)\n",
    "accuracy = accuracy_score(df_clean['etiqueta'], df_clean['prediccion_openai'])\n",
    "print(f'Accuracy: {accuracy:.4f}')"
   ]
  }
 ],
 "metadata": {
  "kernelspec": {
   "display_name": "Python 3",
   "name": "python3"
  },
  "language_info": {
   "name": "python"
  }
 },
 "nbformat": 4,
 "nbformat_minor": 2
}
