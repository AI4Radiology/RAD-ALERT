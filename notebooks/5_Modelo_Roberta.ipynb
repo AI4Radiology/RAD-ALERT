{
 "cells": [
  {
   "cell_type": "markdown",
   "metadata": {
    "id": "dyw3O6hYFO9x"
   },
   "source": [
    "# Modelo Transformer Roberta"
   ]
  },
  {
   "cell_type": "markdown",
   "metadata": {
    "id": "mA5FEu2eFVtG"
   },
   "source": [
    "## **1. Instalación y Parcheo de Librerías**\n",
    "\n",
    "En esta sección se instalan todas las librerías necesarias para trabajar con modelos de lenguaje natural y deep learning modernos, como `transformers`, `datasets`, `scikit-learn`, y utilidades para trabajar con datos y entrenamiento acelerado. También se aplican algunos parches internos para asegurar la compatibilidad entre versiones de las librerías de Hugging Face y su integración con Colab.\n",
    "Esto es fundamental para evitar errores de importación y asegurar que todo el entorno funcione correctamente."
   ]
  },
  {
   "cell_type": "code",
   "execution_count": null,
   "metadata": {
    "colab": {
     "base_uri": "https://localhost:8080/"
    },
    "id": "MxWl3qiVgO6_",
    "outputId": "93d5e1cf-aaf1-47cc-a4c1-bcef715b65a9"
   },
   "outputs": [
    {
     "name": "stdout",
     "output_type": "stream",
     "text": [
      "\u001b[?25l   \u001b[90m━━━━━━━━━━━━━━━━━━━━━━━━━━━━━━━━━━━━━━━━\u001b[0m \u001b[32m0.0/491.5 kB\u001b[0m \u001b[31m?\u001b[0m eta \u001b[36m-:--:--\u001b[0m\r",
      "\u001b[2K   \u001b[90m━━━━━━━━━━━━━━━━━━━━━━━━━━━━━━━━━━━━━━━━\u001b[0m \u001b[32m491.5/491.5 kB\u001b[0m \u001b[31m22.7 MB/s\u001b[0m eta \u001b[36m0:00:00\u001b[0m\n",
      "\u001b[2K   \u001b[90m━━━━━━━━━━━━━━━━━━━━━━━━━━━━━━━━━━━━━━━━\u001b[0m \u001b[32m12.9/12.9 MB\u001b[0m \u001b[31m98.2 MB/s\u001b[0m eta \u001b[36m0:00:00\u001b[0m\n",
      "\u001b[2K   \u001b[90m━━━━━━━━━━━━━━━━━━━━━━━━━━━━━━━━━━━━━━━━\u001b[0m \u001b[32m84.0/84.0 kB\u001b[0m \u001b[31m7.1 MB/s\u001b[0m eta \u001b[36m0:00:00\u001b[0m\n",
      "\u001b[2K   \u001b[90m━━━━━━━━━━━━━━━━━━━━━━━━━━━━━━━━━━━━━━━━\u001b[0m \u001b[32m193.6/193.6 kB\u001b[0m \u001b[31m17.6 MB/s\u001b[0m eta \u001b[36m0:00:00\u001b[0m\n",
      "\u001b[2K   \u001b[90m━━━━━━━━━━━━━━━━━━━━━━━━━━━━━━━━━━━━━━━━\u001b[0m \u001b[32m363.4/363.4 MB\u001b[0m \u001b[31m3.1 MB/s\u001b[0m eta \u001b[36m0:00:00\u001b[0m\n",
      "\u001b[2K   \u001b[90m━━━━━━━━━━━━━━━━━━━━━━━━━━━━━━━━━━━━━━━━\u001b[0m \u001b[32m13.8/13.8 MB\u001b[0m \u001b[31m84.0 MB/s\u001b[0m eta \u001b[36m0:00:00\u001b[0m\n",
      "\u001b[2K   \u001b[90m━━━━━━━━━━━━━━━━━━━━━━━━━━━━━━━━━━━━━━━━\u001b[0m \u001b[32m24.6/24.6 MB\u001b[0m \u001b[31m77.1 MB/s\u001b[0m eta \u001b[36m0:00:00\u001b[0m\n",
      "\u001b[2K   \u001b[90m━━━━━━━━━━━━━━━━━━━━━━━━━━━━━━━━━━━━━━━━\u001b[0m \u001b[32m883.7/883.7 kB\u001b[0m \u001b[31m46.2 MB/s\u001b[0m eta \u001b[36m0:00:00\u001b[0m\n",
      "\u001b[2K   \u001b[90m━━━━━━━━━━━━━━━━━━━━━━━━━━━━━━━━━━━━━━━━\u001b[0m \u001b[32m664.8/664.8 MB\u001b[0m \u001b[31m2.5 MB/s\u001b[0m eta \u001b[36m0:00:00\u001b[0m\n",
      "\u001b[2K   \u001b[90m━━━━━━━━━━━━━━━━━━━━━━━━━━━━━━━━━━━━━━━━\u001b[0m \u001b[32m211.5/211.5 MB\u001b[0m \u001b[31m4.6 MB/s\u001b[0m eta \u001b[36m0:00:00\u001b[0m\n",
      "\u001b[2K   \u001b[90m━━━━━━━━━━━━━━━━━━━━━━━━━━━━━━━━━━━━━━━━\u001b[0m \u001b[32m56.3/56.3 MB\u001b[0m \u001b[31m42.0 MB/s\u001b[0m eta \u001b[36m0:00:00\u001b[0m\n",
      "\u001b[2K   \u001b[90m━━━━━━━━━━━━━━━━━━━━━━━━━━━━━━━━━━━━━━━━\u001b[0m \u001b[32m127.9/127.9 MB\u001b[0m \u001b[31m19.2 MB/s\u001b[0m eta \u001b[36m0:00:00\u001b[0m\n",
      "\u001b[2K   \u001b[90m━━━━━━━━━━━━━━━━━━━━━━━━━━━━━━━━━━━━━━━━\u001b[0m \u001b[32m207.5/207.5 MB\u001b[0m \u001b[31m4.2 MB/s\u001b[0m eta \u001b[36m0:00:00\u001b[0m\n",
      "\u001b[2K   \u001b[90m━━━━━━━━━━━━━━━━━━━━━━━━━━━━━━━━━━━━━━━━\u001b[0m \u001b[32m21.1/21.1 MB\u001b[0m \u001b[31m113.6 MB/s\u001b[0m eta \u001b[36m0:00:00\u001b[0m\n",
      "\u001b[?25h\u001b[31mERROR: pip's dependency resolver does not currently take into account all the packages that are installed. This behaviour is the source of the following dependency conflicts.\n",
      "gcsfs 2025.3.2 requires fsspec==2025.3.2, but you have fsspec 2025.3.0 which is incompatible.\n",
      "sklearn-compat 0.1.3 requires scikit-learn<1.7,>=1.2, but you have scikit-learn 1.7.0 which is incompatible.\u001b[0m\u001b[31m\n",
      "\u001b[0m✅ transformers 4.52.4 parcheado\n"
     ]
    }
   ],
   "source": [
    "!pip install -q --upgrade \\\n",
    "  transformers \\\n",
    "  datasets accelerate scikit-learn evaluate \\\n",
    "  huggingface_hub sentencepiece openpyxl tqdm\n",
    "\n",
    "\n",
    "import transformers as _tf, transformers.utils as _u, huggingface_hub as _hub\n",
    "_u.get_cached_models      = getattr(_u, \"get_cached_models\", lambda *a, **k: [])\n",
    "_u.get_file_from_repo     = getattr(_u, \"get_file_from_repo\", _hub.hf_hub_download)\n",
    "_u.is_soundfile_available = getattr(_u, \"is_soundfile_available\", lambda *a, **k: False)\n",
    "_u.is_soundfile_availble  = getattr(_u, \"is_soundfile_availble\", lambda *a, **k: False)\n",
    "if not hasattr(_tf, \"EncoderDecoderCache\"):\n",
    "    class EncoderDecoderCache: pass\n",
    "    _tf.EncoderDecoderCache = EncoderDecoderCache\n",
    "print(\"✅ transformers\", _tf.__version__, \"parcheado\")\n"
   ]
  },
  {
   "cell_type": "markdown",
   "metadata": {
    "id": "ctDQ12FlFY2M"
   },
   "source": [
    "## **2. Carga de los Datos**\n",
    "\n",
    "Se leen los archivos de entrenamiento, validación y test desde Google Drive en formato Excel usando pandas.\n",
    "Se asegura que la columna de etiqueta esté en formato numérico (`int`), lo cual es esencial para la correcta supervisión del modelo."
   ]
  },
  {
   "cell_type": "code",
   "execution_count": null,
   "metadata": {
    "colab": {
     "base_uri": "https://localhost:8080/"
    },
    "id": "RAyOmhZUhSjd",
    "outputId": "18dfe8c5-13c2-493c-9d79-8450b669cf90"
   },
   "outputs": [
    {
     "name": "stdout",
     "output_type": "stream",
     "text": [
      "Mounted at /content/drive\n"
     ]
    }
   ],
   "source": [
    "from google.colab import drive\n",
    "drive.mount(\"/content/drive\")\n",
    "\n",
    "import pandas as pd\n",
    "root_dir = \"/content/drive/MyDrive/PDG/data/\"\n",
    "\n",
    "df_train = pd.read_excel(root_dir + \"train_df.xlsx\")\n",
    "df_val   = pd.read_excel(root_dir + \"val_df.xlsx\")\n",
    "df_test  = pd.read_excel(root_dir + \"test_df.xlsx\")\n",
    "\n",
    "TEXT_COL  = \"texto\"\n",
    "LABEL_COL = \"etiqueta\"\n",
    "\n",
    "for df in (df_train, df_val, df_test):\n",
    "    df[ LABEL_COL ] = df[LABEL_COL].astype(int)\n"
   ]
  },
  {
   "cell_type": "markdown",
   "metadata": {
    "id": "463OCY6SFgLi"
   },
   "source": [
    "## **3. Preparación de Datasets y Tokenización**\n",
    "\n",
    "* Se inicializa el tokenizer preentrenado Roberta en español biomédico.\n",
    "* Se define una función de tokenización y una función auxiliar para convertir los DataFrames de pandas en Datasets de Hugging Face, que son más eficientes para el entrenamiento de modelos.\n",
    "* Cada conjunto de datos (entrenamiento, validación, test) es tokenizado y preparado, eliminando columnas innecesarias y asegurando que los datos estén en el formato esperado por los modelos Transformer.\n"
   ]
  },
  {
   "cell_type": "code",
   "execution_count": null,
   "metadata": {
    "colab": {
     "base_uri": "https://localhost:8080/",
     "height": 377,
     "referenced_widgets": [
      "b45ed845adb446dda3e50e972db33ac9",
      "77ce09ce2de94ed193f0a05d78a7bbbc",
      "488b6a764d974a17a76ebd3942cb5400",
      "3df35bbe21814f37a015e7c7c55cd5e3",
      "395703c2a980455b8da0e74d6a837e97",
      "63f131edc82c4613afba699c96bcca00",
      "9a590e09e5424311bdb74a66759b1ac2",
      "5377cb2e9e0e45d5ad49646c824acb35",
      "68fe9677a1a84eb8b9b20fe9f902a59e",
      "311add51d59646fdaf55e8d037e4affa",
      "136eba1cbc1444e6a91f80217171dd7d",
      "1cc4c4f6967d4be5bfb19bcb0706a0a3",
      "84edc5caa75f437b838bb688b7c0062f",
      "1ca5fd7cb3504c68a71aa8bdb74941b0",
      "419d9ecd06ce4409abd004b46b0bd155",
      "77c9811ccba44757bcefaea64c7aa15c",
      "e40d6e6f9c9545fcbd5fc918dd2708f5",
      "4abc7c94f1cc4f02a90cdff4da53ec0c",
      "adc65053ef8241858cea93a8535a7dd7",
      "f06d4043262a43b78bb6f4d53d2e0ced",
      "e81a5f5b025647f8a3823e0b82bc378f",
      "b00ce723ba264e7f9cb0a27bd68cccd0",
      "ac857fee588845458864663105f5e80b",
      "6612d798f2d14f5fa147104aebc45ef0",
      "1ad35a73233a425d8f00d44c1c287607",
      "b6e5f3baaa5b4f229039346b27e9fe5e",
      "be92c39dd6764f1f8b86e8df08600bc9",
      "59fdf0f688ce432f95a98b6814458397",
      "c3fabd5507fd45a29244e5419d1401ed",
      "ac1ea8b2346548959ba6619c68fe2d53",
      "702925826adc4c94aba909114e182cb8",
      "be84be0b4c3341418140f00a922e82b8",
      "a7c2da69537d4e6c894a5a1a50012301",
      "79c42258cee44ebfa23ce180e06aef92",
      "a6fbc7491f294cdaabd282fdfd6bc773",
      "e70ca802eeb346cebd060392ee132bc1",
      "bad385be5c9a4df0b4884c067fe925b1",
      "b42377cdbbb24b20bdb2518229d4574d",
      "32c1a1f351ea45228be0c83b60233c12",
      "e632742f69924f5bbd93c8fd4cf8e4c5",
      "629bfbe18b504fceaf1da7bd48d2ebc3",
      "82e9f61527a54ed781b43b4619659237",
      "603b6c0983a940d18ef8eeac1e704e1e",
      "ce79aa4e5f2c498e8213247466681ed8",
      "108ca0a9f727464a9156339e85dbd291",
      "f9f4dbd18cc241a2b9cd3cbb4b73b691",
      "44c00f5794414d1598424ee299926cfe",
      "cf9039e2d4b441d18d89e3877e61dd1c",
      "83fd8ecdbf7a4ba4bf58ea2b17ad94a3",
      "4ceabaa1f2614d16b0bbd687435aa2b4",
      "36b44060111c4c35bb0d76516db57bc2",
      "8718d9ba8c0841938d5d57ae97dfad20",
      "bee92612d5b1495da12c8a8301ba75ba",
      "9e3e3e3eb6224344b7078085c91cf189",
      "530c1af23289497f9c2699fb984b612d",
      "055d0282d61549a5b17cbbfc3bbcc2b0",
      "ad9067e865cf4948abaee03dfc11619b",
      "93e638c0b6c3439f87eaa3cc1a7d95ce",
      "600615d713f24c4a95f9675aa08c4420",
      "24904ab73b9242ef944719c5796265f4",
      "9111e55d87cc41ec9857668ba141a3b9",
      "fe68102a4b0a48b1aba2a8b0f068be6c",
      "ecdf8e6510924b0797a1d4ac6acf112d",
      "a3cf24aa9a5c46ce9a6a1830c1a0f0ac",
      "39bc55b8af514ef19b7132bbbc9061c0",
      "a284d566ec954236add629b2ee071207",
      "0d67884ee44148e2bf063c7295a6e212",
      "eb7d541237284d96b050e161c9f3fb1a",
      "7d1225720dbb4344995fe74f99a622ee",
      "c4590dd60d0847fc98ecc69bb660996d",
      "ebbf5132c05147a0b6a44922489e49a0",
      "1099fe180c2c4e62ae033cdb32cc9ad0",
      "14e354464f71469dadcbf21c1395656a",
      "a73b70fcc7c7423d9523652d6b9d4d5b",
      "6c2d0af3357e4ebdbe7aa033b9bb0796",
      "cacf99c5f51b4235a50d059b49ffe72b",
      "c6d8d6a73d2043b29a2433087217d3b6",
      "556c928d70a24fa797e7b2386be9ab95",
      "dfedad9734f24e4eb5ad77e36377af8e",
      "5d5457f9bac04a778a232117eba65864",
      "ace09e1aeeec4a89b7537fb9904208bb",
      "159f8fc8d4cc414abda955a6291cb6b7",
      "051892fe061a44ccad3b07e8bacd6401",
      "1a2df40d02bc41c28719606759f63721",
      "c9241576fa2f4132938e8690fc8a9b9d",
      "5b9d923e50f945338ba72c6c4f8de098",
      "ce3d4eb7d50e45ceb760706e6c38bed8",
      "18de3271fea347d292ef0ac4d14da5c1"
     ]
    },
    "id": "E3Xx964DhvrU",
    "outputId": "8e2e3ff1-c542-4d60-a567-7179f46100ef"
   },
   "outputs": [
    {
     "name": "stderr",
     "output_type": "stream",
     "text": [
      "/usr/local/lib/python3.11/dist-packages/huggingface_hub/utils/_auth.py:94: UserWarning: \n",
      "The secret `HF_TOKEN` does not exist in your Colab secrets.\n",
      "To authenticate with the Hugging Face Hub, create a token in your settings tab (https://huggingface.co/settings/tokens), set it as secret in your Google Colab and restart your session.\n",
      "You will be able to reuse this secret in all of your notebooks.\n",
      "Please note that authentication is recommended but still optional to access public models or datasets.\n",
      "  warnings.warn(\n"
     ]
    },
    {
     "data": {
      "application/vnd.jupyter.widget-view+json": {
       "model_id": "b45ed845adb446dda3e50e972db33ac9",
       "version_major": 2,
       "version_minor": 0
      },
      "text/plain": [
       "tokenizer_config.json:   0%|          | 0.00/1.27k [00:00<?, ?B/s]"
      ]
     },
     "metadata": {},
     "output_type": "display_data"
    },
    {
     "data": {
      "application/vnd.jupyter.widget-view+json": {
       "model_id": "1cc4c4f6967d4be5bfb19bcb0706a0a3",
       "version_major": 2,
       "version_minor": 0
      },
      "text/plain": [
       "vocab.json:   0%|          | 0.00/1.22M [00:00<?, ?B/s]"
      ]
     },
     "metadata": {},
     "output_type": "display_data"
    },
    {
     "data": {
      "application/vnd.jupyter.widget-view+json": {
       "model_id": "ac857fee588845458864663105f5e80b",
       "version_major": 2,
       "version_minor": 0
      },
      "text/plain": [
       "merges.txt:   0%|          | 0.00/540k [00:00<?, ?B/s]"
      ]
     },
     "metadata": {},
     "output_type": "display_data"
    },
    {
     "data": {
      "application/vnd.jupyter.widget-view+json": {
       "model_id": "79c42258cee44ebfa23ce180e06aef92",
       "version_major": 2,
       "version_minor": 0
      },
      "text/plain": [
       "special_tokens_map.json:   0%|          | 0.00/772 [00:00<?, ?B/s]"
      ]
     },
     "metadata": {},
     "output_type": "display_data"
    },
    {
     "data": {
      "application/vnd.jupyter.widget-view+json": {
       "model_id": "108ca0a9f727464a9156339e85dbd291",
       "version_major": 2,
       "version_minor": 0
      },
      "text/plain": [
       "config.json:   0%|          | 0.00/613 [00:00<?, ?B/s]"
      ]
     },
     "metadata": {},
     "output_type": "display_data"
    },
    {
     "data": {
      "application/vnd.jupyter.widget-view+json": {
       "model_id": "055d0282d61549a5b17cbbfc3bbcc2b0",
       "version_major": 2,
       "version_minor": 0
      },
      "text/plain": [
       "Map:   0%|          | 0/2634 [00:00<?, ? examples/s]"
      ]
     },
     "metadata": {},
     "output_type": "display_data"
    },
    {
     "data": {
      "application/vnd.jupyter.widget-view+json": {
       "model_id": "0d67884ee44148e2bf063c7295a6e212",
       "version_major": 2,
       "version_minor": 0
      },
      "text/plain": [
       "Map:   0%|          | 0/659 [00:00<?, ? examples/s]"
      ]
     },
     "metadata": {},
     "output_type": "display_data"
    },
    {
     "data": {
      "application/vnd.jupyter.widget-view+json": {
       "model_id": "556c928d70a24fa797e7b2386be9ab95",
       "version_major": 2,
       "version_minor": 0
      },
      "text/plain": [
       "Map:   0%|          | 0/100 [00:00<?, ? examples/s]"
      ]
     },
     "metadata": {},
     "output_type": "display_data"
    }
   ],
   "source": [
    "from datasets import Dataset\n",
    "from transformers import RobertaTokenizerFast, default_data_collator\n",
    "\n",
    "MODEL_NAME = \"PlanTL-GOB-ES/roberta-base-biomedical-clinical-es\"\n",
    "tok = RobertaTokenizerFast.from_pretrained(MODEL_NAME)\n",
    "\n",
    "def tokenize(batch):\n",
    "    return tok(batch[TEXT_COL], truncation=True, padding=\"max_length\", max_length=256)\n",
    "\n",
    "def to_ds(df):\n",
    "    ds = Dataset.from_pandas(df)\n",
    "    ds = ds.map(tokenize, batched=True, remove_columns=[TEXT_COL])\n",
    "    ds = ds.rename_column(LABEL_COL, \"labels\")\n",
    "    extra = [c for c in ds.column_names if c.startswith(\"__index_level_\")]\n",
    "    return ds.remove_columns(extra) if extra else ds\n",
    "\n",
    "ds_train, ds_val, ds_test = map(to_ds, (df_train, df_val, df_test))\n"
   ]
  },
  {
   "cell_type": "markdown",
   "metadata": {
    "id": "z0fgMgXFFkPF"
   },
   "source": [
    "\n",
    "## **4. Definición del Modelo y Función de Pérdida Personalizada**\n",
    "\n",
    "* **Modelo base Roberta preentrenado para clasificación binaria:**\n",
    "\n",
    "  * El modelo central utilizado es `RobertaForSequenceClassification`, una variante de RoBERTa adaptada para tareas de clasificación de texto.\n",
    "  * **RoBERTa** (Robustly Optimized BERT Approach) es un modelo de lenguaje basado en la arquitectura Transformer, que aprende representaciones profundas de texto al analizar relaciones contextuales entre palabras y frases en grandes volúmenes de datos. El modelo usado aquí está preentrenado específicamente en textos biomédicos en español, permitiéndole comprender el vocabulario y las expresiones clínicas propias de los informes radiológicos.\n",
    "  * Para esta tarea, la “cabeza” final del modelo se configura para salida binaria, es decir, genera una probabilidad para dos posibles clases: **crítico** y **no crítico**.\n",
    "\n",
    "* **Función de pérdida personalizada: Focal Loss**\n",
    "\n",
    "  * El aprendizaje de los modelos supervisados, como este, depende de una función de pérdida, que mide cuán lejos están las predicciones actuales de las respuestas correctas, y guía al modelo para corregirse durante el entrenamiento.\n",
    "  * En tareas clínicas es muy común el **desbalance de clases**: existen muchos más informes “no críticos” que “críticos”. El problema con la función de pérdida estándar (Cross-Entropy) es que puede favorecer el buen desempeño en la clase mayoritaria a costa de perder sensibilidad en la minoritaria (la más relevante clínicamente).\n",
    "  * Para mitigar esto, se implementa la **Focal Loss**: una función que reduce el impacto de los ejemplos fáciles (que el modelo ya predice bien) y pone mayor peso en los ejemplos difíciles o mal clasificados, especialmente de la clase minoritaria. Matemáticamente, la Focal Loss introduce un factor de “focalización” (gamma) que amplifica la penalización para errores en la clase crítica, y un factor “alpha” que balancea la importancia entre clases.\n",
    "  * Esto significa que el modelo **aprende a ser especialmente cuidadoso en la identificación de informes críticos**, minimizando el riesgo de falsos negativos (casos críticos no detectados), algo esencial en escenarios médicos.\n",
    "\n",
    "* **Integración de la función de pérdida en Hugging Face Trainer**\n",
    "\n",
    "  * En lugar de usar el entrenador estándar (`Trainer`), se define una subclase (`CustomTrainer`) que sobrescribe el método de cálculo de pérdida (`compute_loss`). De este modo, durante el entrenamiento, el modelo utiliza Focal Loss en vez de la pérdida estándar.\n",
    "  * Esta personalización permite aprovechar toda la infraestructura de Hugging Face (optimizadores, programación de entrenamiento, métricas, checkpoints, etc.) y al mismo tiempo obtener un comportamiento óptimo para tareas clínicas desbalanceadas.\n",
    "\n",
    "---\n",
    "\n",
    "### **¿Por qué esta configuración es relevante en salud?**\n",
    "\n",
    "El flujo asegura que el modelo no solo aprenda patrones generales del idioma y el dominio médico, sino que también esté **optimizado para detectar los casos que más importan**: los informes críticos que pueden salvar vidas si se identifican a tiempo.\n",
    "La combinación de **preentrenamiento especializado** y **entrenamiento focalizado** resulta en un clasificador robusto, sensible y seguro para su uso en entornos clínicos reales.\n",
    "\n"
   ]
  },
  {
   "cell_type": "code",
   "execution_count": null,
   "metadata": {
    "colab": {
     "base_uri": "https://localhost:8080/",
     "height": 1000,
     "referenced_widgets": [
      "083178c747444f938ec959ecf0994f3c",
      "daf3e20e82fd4c8192b2fdcab22fd4bf",
      "ea62c07c56ed454aa5563bf9d045e5fa",
      "880d799ff57d42018d661287872b702c",
      "29d5d45af3f748bc8176a30860fefd4a",
      "cb6136b2bd0e43b583b9ef30ffc3a864",
      "934623f6cca44c7c950963ed45a18cdf",
      "608c674bdb564f2b9d2ffe5ec2376564",
      "88d7eff1f6744eb291af302488973332",
      "6efcc2ac444f4ed9be245e32560df560",
      "63e4b8f9535e44c2b6e5386f6f5d260e",
      "623edc640bcb4a54a67442c0fe8eaea9",
      "304783133e634cc3a3eb8a02018cd1dd",
      "b005af8bf53448ed80ec67e99c28bf05",
      "3e819a5d56bf43a584ab6039bbae1274",
      "a2fc9bb89ab74df0a7ca0bf5236890b6",
      "7654dc4c589f4de7815eca25d95510d6",
      "67e71606059649b2b22f50e8fbc4e2e2",
      "825f8549954047bdaf123a6f194f2f18",
      "1f7752807d5a42e5b7d6d458d67c6996",
      "c59bbc137c494aad951990cce4ed55d0",
      "aba9555d43c74012a1fdc182bf9e4bc5"
     ]
    },
    "id": "BnuN0NIQhyuu",
    "outputId": "f8822b5f-5c79-47b1-cdc3-577ea72ff3c8"
   },
   "outputs": [
    {
     "data": {
      "application/vnd.jupyter.widget-view+json": {
       "model_id": "083178c747444f938ec959ecf0994f3c",
       "version_major": 2,
       "version_minor": 0
      },
      "text/plain": [
       "pytorch_model.bin:   0%|          | 0.00/504M [00:00<?, ?B/s]"
      ]
     },
     "metadata": {},
     "output_type": "display_data"
    },
    {
     "name": "stderr",
     "output_type": "stream",
     "text": [
      "Some weights of RobertaForSequenceClassification were not initialized from the model checkpoint at PlanTL-GOB-ES/roberta-base-biomedical-clinical-es and are newly initialized: ['classifier.dense.bias', 'classifier.dense.weight', 'classifier.out_proj.bias', 'classifier.out_proj.weight']\n",
      "You should probably TRAIN this model on a down-stream task to be able to use it for predictions and inference.\n",
      "<ipython-input-4-d35925599e9f>:25: FutureWarning: `tokenizer` is deprecated and will be removed in version 5.0.0 for `CustomTrainer.__init__`. Use `processing_class` instead.\n",
      "  super().__init__(*args, **k)\n"
     ]
    },
    {
     "data": {
      "application/vnd.jupyter.widget-view+json": {
       "model_id": "623edc640bcb4a54a67442c0fe8eaea9",
       "version_major": 2,
       "version_minor": 0
      },
      "text/plain": [
       "model.safetensors:   0%|          | 0.00/504M [00:00<?, ?B/s]"
      ]
     },
     "metadata": {},
     "output_type": "display_data"
    },
    {
     "name": "stderr",
     "output_type": "stream",
     "text": [
      "\u001b[34m\u001b[1mwandb\u001b[0m: \u001b[33mWARNING\u001b[0m The `run_name` is currently set to the same value as `TrainingArguments.output_dir`. If this was not intended, please specify a different run name by setting the `TrainingArguments.run_name` parameter.\n"
     ]
    },
    {
     "data": {
      "application/javascript": [
       "\n",
       "        window._wandbApiKey = new Promise((resolve, reject) => {\n",
       "            function loadScript(url) {\n",
       "            return new Promise(function(resolve, reject) {\n",
       "                let newScript = document.createElement(\"script\");\n",
       "                newScript.onerror = reject;\n",
       "                newScript.onload = resolve;\n",
       "                document.body.appendChild(newScript);\n",
       "                newScript.src = url;\n",
       "            });\n",
       "            }\n",
       "            loadScript(\"https://cdn.jsdelivr.net/npm/postmate/build/postmate.min.js\").then(() => {\n",
       "            const iframe = document.createElement('iframe')\n",
       "            iframe.style.cssText = \"width:0;height:0;border:none\"\n",
       "            document.body.appendChild(iframe)\n",
       "            const handshake = new Postmate({\n",
       "                container: iframe,\n",
       "                url: 'https://wandb.ai/authorize'\n",
       "            });\n",
       "            const timeout = setTimeout(() => reject(\"Couldn't auto authenticate\"), 5000)\n",
       "            handshake.then(function(child) {\n",
       "                child.on('authorize', data => {\n",
       "                    clearTimeout(timeout)\n",
       "                    resolve(data)\n",
       "                });\n",
       "            });\n",
       "            })\n",
       "        });\n",
       "    "
      ],
      "text/plain": [
       "<IPython.core.display.Javascript object>"
      ]
     },
     "metadata": {},
     "output_type": "display_data"
    },
    {
     "name": "stderr",
     "output_type": "stream",
     "text": [
      "\u001b[34m\u001b[1mwandb\u001b[0m: Logging into wandb.ai. (Learn how to deploy a W&B server locally: https://wandb.me/wandb-server)\n",
      "\u001b[34m\u001b[1mwandb\u001b[0m: You can find your API key in your browser here: https://wandb.ai/authorize?ref=models\n",
      "wandb: Paste an API key from your profile and hit enter:"
     ]
    },
    {
     "name": "stdout",
     "output_type": "stream",
     "text": [
      " ··········\n"
     ]
    },
    {
     "name": "stderr",
     "output_type": "stream",
     "text": [
      "\u001b[34m\u001b[1mwandb\u001b[0m: \u001b[33mWARNING\u001b[0m If you're specifying your api key in code, ensure this code is not shared publicly.\n",
      "\u001b[34m\u001b[1mwandb\u001b[0m: \u001b[33mWARNING\u001b[0m Consider setting the WANDB_API_KEY environment variable, or running `wandb login` from the command line.\n",
      "\u001b[34m\u001b[1mwandb\u001b[0m: No netrc file found, creating one.\n",
      "\u001b[34m\u001b[1mwandb\u001b[0m: Appending key for api.wandb.ai to your netrc file: /root/.netrc\n",
      "\u001b[34m\u001b[1mwandb\u001b[0m: Currently logged in as: \u001b[33mannsof\u001b[0m (\u001b[33mannsof-universidad-icesi\u001b[0m) to \u001b[32mhttps://api.wandb.ai\u001b[0m. Use \u001b[1m`wandb login --relogin`\u001b[0m to force relogin\n"
     ]
    },
    {
     "data": {
      "text/html": [
       "Tracking run with wandb version 0.19.11"
      ],
      "text/plain": [
       "<IPython.core.display.HTML object>"
      ]
     },
     "metadata": {},
     "output_type": "display_data"
    },
    {
     "data": {
      "text/html": [
       "Run data is saved locally in <code>/content/wandb/run-20250608_013027-gv48a3qj</code>"
      ],
      "text/plain": [
       "<IPython.core.display.HTML object>"
      ]
     },
     "metadata": {},
     "output_type": "display_data"
    },
    {
     "data": {
      "text/html": [
       "Syncing run <strong><a href='https://wandb.ai/annsof-universidad-icesi/huggingface/runs/gv48a3qj' target=\"_blank\">/content/critico_clf</a></strong> to <a href='https://wandb.ai/annsof-universidad-icesi/huggingface' target=\"_blank\">Weights & Biases</a> (<a href='https://wandb.me/developer-guide' target=\"_blank\">docs</a>)<br>"
      ],
      "text/plain": [
       "<IPython.core.display.HTML object>"
      ]
     },
     "metadata": {},
     "output_type": "display_data"
    },
    {
     "data": {
      "text/html": [
       " View project at <a href='https://wandb.ai/annsof-universidad-icesi/huggingface' target=\"_blank\">https://wandb.ai/annsof-universidad-icesi/huggingface</a>"
      ],
      "text/plain": [
       "<IPython.core.display.HTML object>"
      ]
     },
     "metadata": {},
     "output_type": "display_data"
    },
    {
     "data": {
      "text/html": [
       " View run at <a href='https://wandb.ai/annsof-universidad-icesi/huggingface/runs/gv48a3qj' target=\"_blank\">https://wandb.ai/annsof-universidad-icesi/huggingface/runs/gv48a3qj</a>"
      ],
      "text/plain": [
       "<IPython.core.display.HTML object>"
      ]
     },
     "metadata": {},
     "output_type": "display_data"
    },
    {
     "data": {
      "text/html": [
       "\n",
       "    <div>\n",
       "      \n",
       "      <progress value='1320' max='1320' style='width:300px; height:20px; vertical-align: middle;'></progress>\n",
       "      [1320/1320 03:21, Epoch 4/4]\n",
       "    </div>\n",
       "    <table border=\"1\" class=\"dataframe\">\n",
       "  <thead>\n",
       " <tr style=\"text-align: left;\">\n",
       "      <th>Step</th>\n",
       "      <th>Training Loss</th>\n",
       "    </tr>\n",
       "  </thead>\n",
       "  <tbody>\n",
       "    <tr>\n",
       "      <td>50</td>\n",
       "      <td>0.253400</td>\n",
       "    </tr>\n",
       "    <tr>\n",
       "      <td>100</td>\n",
       "      <td>0.153400</td>\n",
       "    </tr>\n",
       "    <tr>\n",
       "      <td>150</td>\n",
       "      <td>0.127100</td>\n",
       "    </tr>\n",
       "    <tr>\n",
       "      <td>200</td>\n",
       "      <td>0.126800</td>\n",
       "    </tr>\n",
       "    <tr>\n",
       "      <td>250</td>\n",
       "      <td>0.139300</td>\n",
       "    </tr>\n",
       "    <tr>\n",
       "      <td>300</td>\n",
       "      <td>0.058600</td>\n",
       "    </tr>\n",
       "    <tr>\n",
       "      <td>350</td>\n",
       "      <td>0.096200</td>\n",
       "    </tr>\n",
       "    <tr>\n",
       "      <td>400</td>\n",
       "      <td>0.160600</td>\n",
       "    </tr>\n",
       "    <tr>\n",
       "      <td>450</td>\n",
       "      <td>0.042700</td>\n",
       "    </tr>\n",
       "    <tr>\n",
       "      <td>500</td>\n",
       "      <td>0.091900</td>\n",
       "    </tr>\n",
       "    <tr>\n",
       "      <td>550</td>\n",
       "      <td>0.095300</td>\n",
       "    </tr>\n",
       "    <tr>\n",
       "      <td>600</td>\n",
       "      <td>0.085800</td>\n",
       "    </tr>\n",
       "    <tr>\n",
       "      <td>650</td>\n",
       "      <td>0.093700</td>\n",
       "    </tr>\n",
       "    <tr>\n",
       "      <td>700</td>\n",
       "      <td>0.051200</td>\n",
       "    </tr>\n",
       "    <tr>\n",
       "      <td>750</td>\n",
       "      <td>0.064600</td>\n",
       "    </tr>\n",
       "    <tr>\n",
       "      <td>800</td>\n",
       "      <td>0.064200</td>\n",
       "    </tr>\n",
       "    <tr>\n",
       "      <td>850</td>\n",
       "      <td>0.047300</td>\n",
       "    </tr>\n",
       "    <tr>\n",
       "      <td>900</td>\n",
       "      <td>0.099800</td>\n",
       "    </tr>\n",
       "    <tr>\n",
       "      <td>950</td>\n",
       "      <td>0.026600</td>\n",
       "    </tr>\n",
       "    <tr>\n",
       "      <td>1000</td>\n",
       "      <td>0.041600</td>\n",
       "    </tr>\n",
       "    <tr>\n",
       "      <td>1050</td>\n",
       "      <td>0.040500</td>\n",
       "    </tr>\n",
       "    <tr>\n",
       "      <td>1100</td>\n",
       "      <td>0.009500</td>\n",
       "    </tr>\n",
       "    <tr>\n",
       "      <td>1150</td>\n",
       "      <td>0.027600</td>\n",
       "    </tr>\n",
       "    <tr>\n",
       "      <td>1200</td>\n",
       "      <td>0.034900</td>\n",
       "    </tr>\n",
       "    <tr>\n",
       "      <td>1250</td>\n",
       "      <td>0.055400</td>\n",
       "    </tr>\n",
       "    <tr>\n",
       "      <td>1300</td>\n",
       "      <td>0.069800</td>\n",
       "    </tr>\n",
       "  </tbody>\n",
       "</table><p>"
      ],
      "text/plain": [
       "<IPython.core.display.HTML object>"
      ]
     },
     "metadata": {},
     "output_type": "display_data"
    },
    {
     "data": {
      "text/plain": [
       "TrainOutput(global_step=1320, training_loss=0.08187221531389338, metrics={'train_runtime': 241.5733, 'train_samples_per_second': 43.614, 'train_steps_per_second': 5.464, 'total_flos': 1386069039636480.0, 'train_loss': 0.08187221531389338, 'epoch': 4.0})"
      ]
     },
     "execution_count": 4,
     "metadata": {},
     "output_type": "execute_result"
    }
   ],
   "source": [
    "import torch, torch.nn.functional as F\n",
    "from transformers import (\n",
    "    RobertaForSequenceClassification, Trainer, TrainingArguments\n",
    ")\n",
    "from sklearn.metrics import precision_recall_fscore_support, accuracy_score\n",
    "import math\n",
    "\n",
    "\n",
    "\n",
    "counts = df_train[LABEL_COL].value_counts().sort_index().values\n",
    "alpha  = torch.tensor(counts.sum() / (2.0 * counts), dtype=torch.float)\n",
    "\n",
    "class FocalLoss(torch.nn.Module):\n",
    "    def __init__(self, alpha, gamma=2.0):\n",
    "        super().__init__(); self.alpha, self.gamma = alpha, gamma\n",
    "    def forward(self, logits, labels):\n",
    "        ce = F.cross_entropy(logits, labels, weight=self.alpha, reduction=\"none\")\n",
    "        pt = torch.exp(-ce)\n",
    "        return ((1 - pt) ** self.gamma * ce).mean()\n",
    "\n",
    "model = RobertaForSequenceClassification.from_pretrained(MODEL_NAME, num_labels=2)\n",
    "\n",
    "class CustomTrainer(Trainer):\n",
    "    def __init__(self, *args, loss_alpha=None, **k):\n",
    "        super().__init__(*args, **k)\n",
    "        self.loss_alpha = loss_alpha.to(self.args.device)\n",
    "\n",
    "\n",
    "    def compute_loss(self, model, inputs, return_outputs=False, **kwargs):\n",
    "        labels = inputs.pop(\"labels\")\n",
    "        outputs = model(**inputs)\n",
    "        loss = FocalLoss(self.loss_alpha)(outputs.logits, labels)\n",
    "        return (loss, outputs) if return_outputs else loss\n",
    "\n",
    "def metrics(eval_pred):\n",
    "    logits, labels = eval_pred\n",
    "    preds = logits.argmax(1)\n",
    "    p, r, f, _ = precision_recall_fscore_support(labels, preds, average=None, labels=[0,1])\n",
    "    return {\"accuracy\": accuracy_score(labels, preds),\n",
    "            \"precision\": p[1], \"recall\": r[1], \"f1\": f[1]}\n",
    "\n",
    "args = TrainingArguments(\n",
    "    output_dir               = \"/content/critico_clf\",\n",
    "    num_train_epochs         = 4,\n",
    "    per_device_train_batch_size = 8,\n",
    "    per_device_eval_batch_size  = 16,\n",
    "    learning_rate            = 2e-5,\n",
    "    weight_decay             = 0.01,\n",
    "    logging_steps            = 50,\n",
    "    seed                     = 42,\n",
    "    fp16                     = torch.cuda.is_available(),\n",
    "\n",
    "\n",
    "    do_train                 = True,\n",
    "    do_eval                  = True,\n",
    "    eval_steps               = math.ceil(len(ds_train) / 8),\n",
    "    save_steps               = math.ceil(len(ds_train) / 8),\n",
    "    save_total_limit         = 2,\n",
    ")\n",
    "\n",
    "trainer = CustomTrainer(\n",
    "    model           = model,\n",
    "    args            = args,\n",
    "    train_dataset   = ds_train,\n",
    "    eval_dataset    = ds_val,\n",
    "    tokenizer       = tok,\n",
    "    data_collator   = default_data_collator,\n",
    "    compute_metrics = metrics,\n",
    "    loss_alpha      = alpha,\n",
    ")\n",
    "\n",
    "trainer.train()\n"
   ]
  },
  {
   "cell_type": "markdown",
   "metadata": {
    "id": "oCIDwmysFnFr"
   },
   "source": [
    "## **5. Entrenamiento y Evaluacion del Modelo**\n",
    "\n",
    "Se entrena el modelo usando el objeto `CustomTrainer`, que se encarga de gestionar todo el ciclo de entrenamiento y evaluación, aplicando la Focal Loss y reportando el progreso de manera automática."
   ]
  },
  {
   "cell_type": "code",
   "execution_count": null,
   "metadata": {
    "colab": {
     "base_uri": "https://localhost:8080/",
     "height": 434
    },
    "id": "EqRLQgHMiqSl",
    "outputId": "896ff256-736c-4c21-a35a-622f1aa81561"
   },
   "outputs": [
    {
     "name": "stdout",
     "output_type": "stream",
     "text": [
      "\n",
      "=== Desempeño en VALIDACIÓN durante el entrenamiento ===\n"
     ]
    },
    {
     "data": {
      "text/html": [],
      "text/plain": [
       "<IPython.core.display.HTML object>"
      ]
     },
     "metadata": {},
     "output_type": "display_data"
    },
    {
     "name": "stdout",
     "output_type": "stream",
     "text": [
      "              precision    recall  f1-score   support\n",
      "\n",
      "  No crítico     0.9768    0.9439    0.9601       535\n",
      "     Crítico     0.7887    0.9032    0.8421       124\n",
      "\n",
      "    accuracy                         0.9363       659\n",
      "   macro avg     0.8828    0.9236    0.9011       659\n",
      "weighted avg     0.9414    0.9363    0.9379       659\n",
      "\n",
      "VPN (Valor predictivo negativo) en VALIDACIÓN: 0.9768\n",
      "\n",
      "=== Desempeño en TEST final ===\n"
     ]
    },
    {
     "data": {
      "text/html": [],
      "text/plain": [
       "<IPython.core.display.HTML object>"
      ]
     },
     "metadata": {},
     "output_type": "display_data"
    },
    {
     "name": "stdout",
     "output_type": "stream",
     "text": [
      "              precision    recall  f1-score   support\n",
      "\n",
      "  No crítico     0.9615    0.9259    0.9434        81\n",
      "     Crítico     0.7273    0.8421    0.7805        19\n",
      "\n",
      "    accuracy                         0.9100       100\n",
      "   macro avg     0.8444    0.8840    0.8619       100\n",
      "weighted avg     0.9170    0.9100    0.9124       100\n",
      "\n",
      "VPN (Valor predictivo negativo) en TEST: 0.9615\n"
     ]
    }
   ],
   "source": [
    "from sklearn.metrics import classification_report, confusion_matrix\n",
    "\n",
    "\n",
    "\n",
    "\n",
    "print(\"\\n=== Desempeño en VALIDACIÓN durante el entrenamiento ===\")\n",
    "val_logits, val_labels, _ = trainer.predict(ds_val)\n",
    "val_preds = val_logits.argmax(axis=1)\n",
    "print(classification_report(val_labels, val_preds,\n",
    "                            target_names=[\"No crítico\", \"Crítico\"],\n",
    "                            digits=4))\n",
    "\n",
    "cm_val = confusion_matrix(val_labels, val_preds)\n",
    "tn, fp, fn, tp = cm_val.ravel()\n",
    "vpn_val = tn / (tn + fn) if (tn + fn) > 0 else 0.0\n",
    "print(f\"VPN (Valor predictivo negativo) en VALIDACIÓN: {vpn_val:.4f}\")\n",
    "\n",
    "\n",
    "print(\"\\n=== Desempeño en TEST final ===\")\n",
    "test_logits, test_labels, _ = trainer.predict(ds_test)\n",
    "test_preds = test_logits.argmax(axis=1)\n",
    "print(classification_report(test_labels, test_preds,\n",
    "                            target_names=[\"No crítico\", \"Crítico\"],\n",
    "                            digits=4))\n",
    "\n",
    "cm_test = confusion_matrix(test_labels, test_preds)\n",
    "tn_t, fp_t, fn_t, tp_t = cm_test.ravel()\n",
    "vpn_test = tn_t / (tn_t + fn_t) if (tn_t + fn_t) > 0 else 0.0\n",
    "print(f\"VPN (Valor predictivo negativo) en TEST: {vpn_test:.4f}\")\n"
   ]
  },
  {
   "cell_type": "code",
   "execution_count": null,
   "metadata": {
    "colab": {
     "base_uri": "https://localhost:8080/",
     "height": 1000
    },
    "id": "gILDAhRlpizx",
    "outputId": "5a0649a2-cc71-4025-9207-f4018aa38643"
   },
   "outputs": [
    {
     "name": "stdout",
     "output_type": "stream",
     "text": [
      "\n",
      "Matriz de confusión — VALIDACIÓN\n",
      "[[505  30]\n",
      " [ 12 112]]\n"
     ]
    },
    {
     "data": {
      "image/png": "[encoded data removed]",
      "text/plain": [
       "<Figure size 640x480 with 1 Axes>"
      ]
     },
     "metadata": {},
     "output_type": "display_data"
    },
    {
     "name": "stdout",
     "output_type": "stream",
     "text": [
      "\n",
      "Matriz de confusión — TEST\n",
      "[[75  6]\n",
      " [ 3 16]]\n"
     ]
    },
    {
     "data": {
      "image/png": "[encoded data removed]",
      "text/plain": [
       "<Figure size 640x480 with 1 Axes>"
      ]
     },
     "metadata": {},
     "output_type": "display_data"
    }
   ],
   "source": [
    "from sklearn.metrics import ConfusionMatrixDisplay\n",
    "import matplotlib.pyplot as plt\n",
    "\n",
    "\n",
    "print(\"\\nMatriz de confusión — VALIDACIÓN\")\n",
    "print(cm_val)\n",
    "\n",
    "disp_val = ConfusionMatrixDisplay(\n",
    "    confusion_matrix=cm_val,\n",
    "    display_labels=[\"No crítico\", \"Crítico\"]\n",
    ")\n",
    "disp_val.plot(cmap=\"Blues\", colorbar=False)\n",
    "plt.title(\"Confusión — VALIDACIÓN\")\n",
    "plt.show()\n",
    "\n",
    "\n",
    "print(\"\\nMatriz de confusión — TEST\")\n",
    "print(cm_test)\n",
    "\n",
    "disp_test = ConfusionMatrixDisplay(\n",
    "    confusion_matrix=cm_test,\n",
    "    display_labels=[\"No crítico\", \"Crítico\"]\n",
    ")\n",
    "disp_test.plot(cmap=\"Blues\", colorbar=False)\n",
    "plt.title(\"Confusión — TEST\")\n",
    "plt.show()\n"
   ]
  },
  {
   "cell_type": "code",
   "execution_count": null,
   "metadata": {
    "colab": {
     "base_uri": "https://localhost:8080/"
    },
    "id": "sRbtFKeZJAI_",
    "outputId": "79031620-f3a6-487f-dfe3-f0c854f92ab3"
   },
   "outputs": [
    {
     "data": {
      "text/plain": [
       "('./critico_clf_export/tokenizer_config.json',\n",
       " './critico_clf_export/special_tokens_map.json',\n",
       " './critico_clf_export/vocab.json',\n",
       " './critico_clf_export/merges.txt',\n",
       " './critico_clf_export/added_tokens.json',\n",
       " './critico_clf_export/tokenizer.json')"
      ]
     },
     "execution_count": 7,
     "metadata": {},
     "output_type": "execute_result"
    }
   ],
   "source": [
    "import os\n",
    "\n",
    "export_dir = \"./critico_clf_export\"\n",
    "os.makedirs(export_dir, exist_ok=True)\n",
    "trainer.save_model(export_dir)\n",
    "tok.save_pretrained(export_dir)\n"
   ]
  },
  {
   "cell_type": "code",
   "execution_count": null,
   "metadata": {
    "colab": {
     "base_uri": "https://localhost:8080/"
    },
    "id": "Kr906j5HU562",
    "outputId": "6a4f638b-43ad-4bf1-c914-0f3a4c6dcacb"
   },
   "outputs": [
    {
     "name": "stdout",
     "output_type": "stream",
     "text": [
      "Drive already mounted at /content/drive; to attempt to forcibly remount, call drive.mount(\"/content/drive\", force_remount=True).\n",
      "✅ Modelo y tokenizer exportados en: /content/drive/MyDrive/critico_clf_export\n"
     ]
    }
   ],
   "source": [
    "from google.colab import drive\n",
    "import os\n",
    "\n",
    "# 1) Monta tu Drive en Colab\n",
    "drive.mount('/content/drive')\n",
    "\n",
    "# 2) Define la carpeta de exportación dentro de tu Drive\n",
    "export_dir = '/content/drive/MyDrive/critico_clf_export'\n",
    "os.makedirs(export_dir, exist_ok=True)\n",
    "\n",
    "# 3) Guarda el modelo y el tokenizer en Drive\n",
    "trainer.save_model(export_dir)\n",
    "tok.save_pretrained(export_dir)\n",
    "\n",
    "print(f\"✅ Modelo y tokenizer exportados en: {export_dir}\")\n"
   ]
  }
 ],
 "metadata": {
  "accelerator": "GPU",
  "colab": {
   "gpuType": "T4",
   "machine_shape": "hm",
   "provenance": []
  },
  "kernelspec": {
   "display_name": "Python 3",
   "name": "python3"
  },
  "language_info": {
   "name": "python"
  }
 },
 "nbformat": 4,
 "nbformat_minor": 0
}
